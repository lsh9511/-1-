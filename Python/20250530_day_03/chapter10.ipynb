{
 "cells": [
  {
   "cell_type": "markdown",
   "id": "8d18fc41",
   "metadata": {},
   "source": [
    "###list\n",
    "\n",
    "*list란? 원소들이 연속적으로 저장되는 형태의 자료형을 말합니다.\n",
    "\n",
    "*시퀀스 자료형!!\n",
    "\n",
    "    *str(정복), list(정복 예정), tuple, dict ,set\n",
    "    \n",
    "*만드는 방법은 쉬워 대괄호로 묶어주고, 값들은 콤마로 구분합니다."
   ]
  },
  {
   "cell_type": "code",
   "execution_count": 5,
   "id": "bac28e4a",
   "metadata": {},
   "outputs": [
    {
     "name": "stdout",
     "output_type": "stream",
     "text": [
      "[]\n",
      "[23, '이게리스트다', 3.23, True, False]\n"
     ]
    },
    {
     "data": {
      "text/plain": [
       "[23, '이게리스트다']"
      ]
     },
     "execution_count": 5,
     "metadata": {},
     "output_type": "execute_result"
    }
   ],
   "source": [
    "리스트 = []\n",
    "print(리스트)\n",
    "리스트 = [23, \"이게리스트다\", 3.23 , True, False]\n",
    "print(리스트)\n",
    "리스트[0:2]\n"
   ]
  },
  {
   "cell_type": "markdown",
   "id": "02bfa298",
   "metadata": {},
   "source": [
    "## 리스트 패킹 언패킹은 꼭 공부해두기\n"
   ]
  },
  {
   "cell_type": "code",
   "execution_count": 57,
   "id": "96ebcfe4",
   "metadata": {},
   "outputs": [
    {
     "name": "stdout",
     "output_type": "stream",
     "text": [
      "[5, 15]\n",
      "[44]\n",
      "44\n",
      "[44, 41, 33, 15, 5, 3]\n",
      "True\n",
      "[3, 5, 15, 33, 41, 44, 2, 12, 15, 24, 33, 39]\n",
      "[2, 4, 6, 8, 10]\n",
      "[2, 4, 6, 8, 10, 2, 4, 6, 8, 10]\n",
      "10\n",
      "8\n",
      "10\n",
      "['숙주', '분모자', '마라', '소세지', '소고기', '옥수수면', '돼지 목살']\n",
      "['숙주', '분모자', '김치찌개', '마라', '소세지', '소고기', '옥수수면', '돼지 목살']\n",
      "['숙주', '분모자', '김치찌개', '마라', '소세지', '소고기', '옥수수면']\n",
      "['숙주', '분모자', '마라', '소세지', '소고기', '옥수수면']\n",
      "['숙주', '분모자', '마라', '소세지', '돼지고기', '옥수수면']\n",
      "None\n",
      "None\n",
      "0\n",
      "[[2, 0], [3, 1], [5, 1]]\n"
     ]
    }
   ],
   "source": [
    "로또 = [3, 5, 15, 33, 41, 44]\n",
    "# 로또 변수에 있는 리스트의 인덱스 1번부터 2번까지의 값을 출력해\n",
    "print(로또[1:3])\n",
    "# 로또 변수의 마지막 위치 출력해줘\n",
    "print(로또[5:])\n",
    "print(로또[-1])\n",
    "# 반대로 출력해보세요\n",
    "print(로또[::-1])\n",
    "# 로또 리스트 안에 33이 있는지 확인해보세요\n",
    "print(33 in 로또)\n",
    "# 로또 리스트를 로또 2 리스트와 합쳐보세요\n",
    "로또2 = [2, 12, 15, 24, 33, 39]\n",
    "print(로또 + 로또2)\n",
    "#range를 이용해서 1부터 10사이에 짝수만 들어있는 짝수(변수명) 리스트를 만들어주세요\n",
    "짝수 = list(range(2,12,2))\n",
    "print(짝수)\n",
    "# 짝수 리스트에 들어있는 값을 2배 늘리고 다시 짝수 변수에 담아줘\n",
    "짝수 = 짝수*2\n",
    "print(짝수)\n",
    "# 짝수 리스트에 들어있는 요소의 개수를 구해주세요\n",
    "print(len(짝수))\n",
    "# 짝수 리스트에 3번째 인덱스를 출력해주세요\n",
    "print(짝수[3])\n",
    "# len()함수를 이용해 인덱스 마지막 값을 출력해주세요\n",
    "print(짝수[len(짝수)-1])\n",
    "\n",
    "#리스트 값 넣고, 바꾸고, 지우고\n",
    "mzfood = [\"숙주\", \"분모자\", \"마라\", \"소세지\", \"소고기\", \"옥수수면\"]\n",
    "# 값을 넣는 방법 2가지 : append() : 마지막 요소에 값을 넣어, insert() : 원하는 곳에 값을 넣어요\n",
    "mzfood.append(\"돼지 목살\")\n",
    "print(mzfood)\n",
    "mzfood.insert(2, \"김치찌개\")\n",
    "print(mzfood)\n",
    "# 값 지우기\n",
    "del mzfood[-1]\n",
    "print(mzfood)\n",
    "del mzfood[2]\n",
    "print(mzfood)\n",
    "#값 바꾸기\n",
    "mzfood[-2] = \"돼지고기\"\n",
    "print(mzfood)\n",
    "#문자열은 시퀀스로 안됨\n",
    "#list 메소드 다양하게 이용가능\n",
    "#왜 print를 쓰면 None 이  나올까?\n",
    "print(mzfood.reverse())\n",
    "print(mzfood.sort())\n",
    "# 2차원 리스트에 대해서도 공부는 필수!!!!!!!!!!!\n",
    "양파같은 = [[2,0], [3,1]]\n",
    "print(양파같은[0][1])\n",
    "\n",
    "양파같은.append([5,1])\n",
    "print(양파같은)\n",
    "\n"
   ]
  }
 ],
 "metadata": {
  "kernelspec": {
   "display_name": "Python 3",
   "language": "python",
   "name": "python3"
  },
  "language_info": {
   "codemirror_mode": {
    "name": "ipython",
    "version": 3
   },
   "file_extension": ".py",
   "mimetype": "text/x-python",
   "name": "python",
   "nbconvert_exporter": "python",
   "pygments_lexer": "ipython3",
   "version": "3.9.6"
  }
 },
 "nbformat": 4,
 "nbformat_minor": 5
}
