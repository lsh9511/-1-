{
 "cells": [
  {
   "cell_type": "markdown",
   "id": "d54c11f1",
   "metadata": {},
   "source": [
    "##시퀀스 자료형\n",
    "\n",
    "* 문자열 : \n",
    "\n",
    "        * 시퀀스형에서 사용할 수 있는 메서드(count(), index(), split() 등 ...)  \n",
    "        * 슬라이싱([:] [::])  \n",
    "        * 요소들로 이루어져 가능했던 기능들(요소 합치기, 요소 찾기 등등)   \n",
    " \n",
    "* 리스트 : \n",
    "\n",
    "        * 시퀀스형에서 사용할 수 있는 메서드(count(), index(), split() 등 ...)  \n",
    "        * 슬라이싱([:] [::])  \n",
    "        * 요소들로 이루어져 가능했던 기능들(요소 합치기, 요소 찾기 등등)  \n",
    "        * 리스트 지원하는 다양한 메소드(append(), insert(), del. sort(), reverse() 등)  \n",
    "* tuple :  \n",
    "\n",
    "        * 리스트처럼 요소를 일렬로 저장하지만 안에 저장된 요소를 변경, 추가, 삭제할 수 없다.  \n",
    "        * 값을 추가, 삭제, 변경할 수 없기 때문에, 사용하지 못하는 메소드가 많다  \n",
    "        * tuple의 생성 방법은 tuple = 값, 값 또는 tuple = (값, 값)  \n",
    "        * 그리고 엄청난 비밀이 숨겨져 있어요\n",
    "        * tuple은 소괄호 입니다.  \n",
    "\n",
    "\n",
    " \n",
    "        "
   ]
  },
  {
   "cell_type": "code",
   "execution_count": 13,
   "id": "03242453",
   "metadata": {},
   "outputs": [
    {
     "name": "stdout",
     "output_type": "stream",
     "text": [
      "(1, '이', 3.0)\n",
      "<class 'tuple'>\n",
      "[1, '이', 3.0]\n",
      "<class 'list'>\n",
      "(1, '이', 3)\n",
      "1\n",
      "<class 'int'>\n",
      "(1,)\n",
      "<class 'tuple'>\n",
      "['__add__', '__class__', '__class_getitem__', '__contains__', '__delattr__', '__dir__', '__doc__', '__eq__', '__format__', '__ge__', '__getattribute__', '__getitem__', '__getnewargs__', '__gt__', '__hash__', '__init__', '__init_subclass__', '__iter__', '__le__', '__len__', '__lt__', '__mul__', '__ne__', '__new__', '__reduce__', '__reduce_ex__', '__repr__', '__rmul__', '__setattr__', '__sizeof__', '__str__', '__subclasshook__', 'count', 'index']\n",
      "['__add__', '__class__', '__class_getitem__', '__contains__', '__delattr__', '__delitem__', '__dir__', '__doc__', '__eq__', '__format__', '__ge__', '__getattribute__', '__getitem__', '__gt__', '__hash__', '__iadd__', '__imul__', '__init__', '__init_subclass__', '__iter__', '__le__', '__len__', '__lt__', '__mul__', '__ne__', '__new__', '__reduce__', '__reduce_ex__', '__repr__', '__reversed__', '__rmul__', '__setattr__', '__setitem__', '__sizeof__', '__str__', '__subclasshook__', 'append', 'clear', 'copy', 'count', 'extend', 'index', 'insert', 'pop', 'remove', 'reverse', 'sort']\n",
      "[]\n"
     ]
    }
   ],
   "source": [
    "#리스트 [], 튜플은 ()\n",
    "튜플 = (1, \"이\", 3.0)\n",
    "print(튜플)\n",
    "print(type(튜플))\n",
    "리스트 = [1, \"이\", 3.0]\n",
    "print(리스트)\n",
    "print(type(리스트))\n",
    "#튜플은 언패킹이 가능( 튜플만)\n",
    "튜플 = 1, \"이\", 3\n",
    "print(튜플)\n",
    "\n",
    "튜플_솔로 = 1\n",
    "print(튜플_솔로)\n",
    "print(type(튜플_솔로))\n",
    "\n",
    "튜플_솔로 = 1,\n",
    "print(튜플_솔로)\n",
    "print(type(튜플_솔로))\n",
    "\n",
    "# 값 추가, 삭제, 변경 불가 진실일까?\n",
    "print(dir(튜플))\n",
    "print(dir(리스트))\n",
    "print(list(tuple())) # 튜플의 리스트화...\n",
    "\n"
   ]
  }
 ],
 "metadata": {
  "kernelspec": {
   "display_name": "Python 3",
   "language": "python",
   "name": "python3"
  },
  "language_info": {
   "codemirror_mode": {
    "name": "ipython",
    "version": 3
   },
   "file_extension": ".py",
   "mimetype": "text/x-python",
   "name": "python",
   "nbconvert_exporter": "python",
   "pygments_lexer": "ipython3",
   "version": "3.9.6"
  }
 },
 "nbformat": 4,
 "nbformat_minor": 5
}
