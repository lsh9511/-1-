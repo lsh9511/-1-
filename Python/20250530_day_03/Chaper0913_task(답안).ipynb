{
 "cells": [
  {
   "cell_type": "markdown",
   "metadata": {
    "id": "fD4Qab2qYgOm"
   },
   "source": [
    "안녕하세요. 수강생 여러분~! Chapter09 ~ 13 수업은 잘 들으셨나요?\n",
    "\n",
    "Chapter09 ~ 13의 수업 내용을 바탕으로 아래 문제를 풀어주시면 됩니다.\n",
    "\n",
    "\n",
    "<br>\n",
    "\n",
    "\n",
    "[**답변 입력 방법**]\n",
    "\n",
    "문제 아래에 있는 코드 입력창에 정답코드를 작성하신 후  __▷ 버튼을 클릭해 코드를 실행__ 해보세요<br>"
   ]
  },
  {
   "cell_type": "markdown",
   "metadata": {},
   "source": [
    "---"
   ]
  },
  {
   "cell_type": "markdown",
   "metadata": {},
   "source": [
    "__[문제0]__\n",
    "\n",
    "\n",
    "오즈 코딩 스쿨 백엔드 8기 과정에 참여한 수강생 중 3명의 수강생이 자율적으로 스터디 그룹을 결성했습니다.\n",
    "\n",
    "스터디 그룹 내에는 한 주간 배운 내용으로 매주 쪽지 시험을 보는 룰이 있습니다. 점수는 채점자 마음입니다.\n",
    "\n",
    "쪽지 시험의 점수를 직접 입력받고, 점수의 합을 출력해주세요!\n",
    "\n",
    "\n",
    "<br>\n",
    "\n"
   ]
  },
  {
   "cell_type": "markdown",
   "metadata": {},
   "source": [
    "- **세 명의 수험생 점수를 입력받는다.**\n",
    "- 각 점수를 `int()` 함수로 정수로 변환한 뒤, **점수의 합을 계산**한다.\n",
    "- **점수의 합을 출력**한다.\n",
    "\n",
    "```python\n",
    "score1 = int(input())\n",
    "score2 = int(input())\n",
    "score3 = int(input())\n",
    "\n",
    "total_score = score1 + score2 + score3\n",
    "print(total_score)\n",
    "```\n",
    "\n",
    " `input()`을 사용하여 세 명의 점수를 입력받고, 각각 `int()`로 변환하여 정수로 처리합니다."
   ]
  },
  {
   "cell_type": "markdown",
   "metadata": {
    "id": "swqdcIl8Yn-c"
   },
   "source": [
    "__[문제1]<br>__\n",
    "\n",
    "movie_rank 리스트에는 아래와 같이 네 개의 영화 제목이 바인딩되어 있다. \n",
    "\n",
    "\"비밀\"을 \"나폴레옹\"과 \"괴물\" 사이에 추가해주세요\n",
    "\n",
    "<br>\n",
    "\n",
    "```\n",
    "movie = ['서울의 봄', '나폴레옹', '괴물', '베트맨']\n",
    "```\n",
    "\n"
   ]
  },
  {
   "cell_type": "markdown",
   "metadata": {},
   "source": [
    "<aside>\n",
    "🔑 정답 : movie.insert(2, '비밀')\n",
    "\n",
    "<br>\n",
    "\n",
    "Python 리스트에서 특정 위치에 값을 추가하려면 `insert()` 메소드를 사용할 수 있습니다. \n",
    "`insert()` 메소드는 첫 번째 인자로 삽입할 위치의 인덱스를, 두 번째 인자로 삽입할 값을 받습니다.\n",
    "\n",
    "\"비밀\"을 \"나폴레옹\"과 \"괴물\" 사이에 추가하는 코드는 아래와 같습니다.\n",
    "\n",
    "```python\n",
    "movie.insert(2,'비밀')\n",
    "print(movie)\n",
    "```\n",
    "\n",
    "위 코드에서 `2`는 \"비밀\"이 추가될 위치의 인덱스이며, 파이썬에서 리스트의 인덱스는 0부터 시작하기 때문에 \"나폴레옹\"(인덱스 1) 다음에 \"비밀\"을 추가하기 위해 `2`를 사용합니다. `'비밀'`은 추가할 값입니다.\n",
    "\n",
    "이렇게 하면 `movie` 리스트는 `['서울의 봄', '나폴레옹', '비밀', '괴물', '베트맨']`과 같이 \"비밀\"이 \"나폴레옹\"과 \"괴물\" 사이에 추가됩니다.\n",
    "\n",
    "</aside>"
   ]
  },
  {
   "cell_type": "markdown",
   "metadata": {},
   "source": [
    "---"
   ]
  },
  {
   "cell_type": "markdown",
   "metadata": {
    "id": "KZBNuM5MYpZR"
   },
   "source": [
    "__[문제1-2]<br>__\n",
    "\n",
    "movie_rank 리스트에서 '베트맨'를 삭제해주세요\n",
    "\n",
    "<br>\n",
    "\n",
    "```\n",
    "movie = ['서울의 봄', '나폴레옹', '비밀', '괴물', '베트맨']\n",
    "```\n",
    "\n"
   ]
  },
  {
   "cell_type": "markdown",
   "metadata": {},
   "source": [
    "<aside>\n",
    "🔑 정답 : movie.remove(’베트맨’)\n",
    "\n",
    "<br>\n",
    "\n",
    "Python 리스트에서 특정 값을 삭제하려면 `remove()` 함수를 사용할 수 있습니다. `remove()` 함수는 리스트에서 첫 번째로 나타나는 특정 값을 제거합니다.\n",
    "\n",
    "따라서 '베트맨'을 삭제하려면 다음과 같이 코드를 작성할 수 있습니다.\n",
    "\n",
    "```python\n",
    "movie.remove('베트맨')\n",
    "print(movie)\n",
    "```\n",
    "\n",
    "이 코드는 `movie` 리스트에서 '베트맨'이라는 값을 찾아 제거합니다. \n",
    "이렇게 하면 `movie` 리스트는 `['서울의 봄', '나폴레옹', '비밀', '괴물']`이 됩니다.\n",
    "\n",
    "단, `remove()` 함수는 리스트에서 해당 값이 없을 경우 ValueError를 발생시키므로, 해당 값이 리스트에 있는지 확인한 후 삭제하는 것이 안전합니다.\n",
    "\n",
    "</aside>"
   ]
  },
  {
   "cell_type": "markdown",
   "metadata": {
    "id": "i8EJYPY0YsAe"
   },
   "source": [
    "__[문제2]<br>__\n",
    "\n",
    "[언어1]과 [언어2] 리스트가 있을 때 언어1과 언어2의 원소를 모두 갖고 있는 [언어모음]이라는 list를 만들어주세요\n",
    "\n",
    "```lang1 = [\"C\", \"C++\", \"JAVA\"]```<br>\n",
    "```lang2 = [\"Python\", \"Go\", \"C#\"]```  \n",
    "\n",
    "<br>\n",
    "실행 예)\n",
    "언어들\n",
    "['C', 'C++', 'JAVA', 'Python', 'Go', 'C#']"
   ]
  },
  {
   "cell_type": "markdown",
   "metadata": {},
   "source": [
    "<aside>\n",
    "🔑 정답 : lang1+lang2, lang1.extend(lang2)\n",
    "\n",
    "<br>\n",
    "\n",
    "Python에서는 '+' 연산자를 사용하여 두 개의 리스트를 합칠 수 있습니다.\n",
    "\n",
    "```python\n",
    "lang1 = [\"C\", \"C++\", \"JAVA\"]\n",
    "lang2 = [\"Python\", \"Go\", \"C#\"]\n",
    "\n",
    "langs = lang1 + lang2\n",
    "print(langs)\n",
    "```\n",
    "\n",
    "이 코드에서, `lang1`과 `lang2` 두 리스트가 '+' 연산자를 통해 하나의 리스트로 합쳐졌습니다. 이렇게 만들어진 `langs` 리스트는 `[\"C\", \"C++\", \"JAVA\", \"Python\", \"Go\", \"C#\"]` 이렇게 됩니다.\n",
    "\n",
    "이 방법 외에도 `extend()` 함수를 사용해서도 두 리스트를 합칠 수 있습니다.\n",
    "\n",
    "```python\n",
    "lang1 = [\"C\", \"C++\", \"JAVA\"]\n",
    "lang2 = [\"Python\", \"Go\", \"C#\"]\n",
    "\n",
    "lang1.extend(lang2)\n",
    "print(lang1)\n",
    "```\n",
    "\n",
    "`extend()` 함수는 리스트의 끝에 다른 리스트의 모든 항목을 추가합니다. 따라서 이 코드를 실행하면 `lang1` 리스트는 `[\"C\", \"C++\", \"JAVA\", \"Python\", \"Go\", \"C#\"]` 이렇게 변하게 됩니다.\n",
    "\n",
    "</aside>"
   ]
  },
  {
   "cell_type": "markdown",
   "metadata": {},
   "source": [
    "---"
   ]
  },
  {
   "cell_type": "markdown",
   "metadata": {
    "id": "5VFysaYRwT69"
   },
   "source": [
    "__[문제3]<br>__\n",
    "\n",
    "다음 리스트에서 최댓값과 최솟값, 그리고 평균을 출력해주세요.\n",
    "<br>\n",
    "\n",
    "```\n",
    "nums = [1, 2, 3, 4, 5, 6, 7, 9, 10]\n",
    "```\n",
    "\n"
   ]
  },
  {
   "cell_type": "markdown",
   "metadata": {},
   "source": [
    "정답 : max(nums) , min(nums), sum(nums) / len(nums)\n",
    "\n",
    "<br>\n",
    "Python에서는 max() 함수와 min() 함수를 사용하여 리스트의 최댓값과 최솟값을 구할 수 있습니다. 또한 sum() 함수는 리스트의 모든 요소를 더한 값을 반환하고, len() 함수는 리스트의 길이를 반환합니다.\n",
    "\n",
    "```python\n",
    "nums = [1, 2, 3, 4, 5, 6, 7, 9, 10]\n",
    "\n",
    "max_value = max(nums)  # 최댓값\n",
    "min_value = min(nums)  # 최솟값\n",
    "average_value = sum(nums) / len(nums)  # 평균\n",
    "\n",
    "print(\"최댓값:\", max_value)\n",
    "print(\"최솟값:\", min_value)\n",
    "print(\"평균:\", average_value)\n",
    "```"
   ]
  },
  {
   "cell_type": "markdown",
   "metadata": {},
   "source": [
    "---"
   ]
  },
  {
   "cell_type": "markdown",
   "metadata": {
    "id": "5_IA50IQE2AM"
   },
   "source": [
    "__[문제4]__\n",
    "\n",
    "다음 리스트에 저장된 데이터의 개수를 화면에 구해주세요\n",
    "\n",
    "```cook = [\"피자\", \"김밥\", \"만두\", \"양념치킨\", \"족발\", \"피자\", \"김치만두\", \"쫄면\"]```"
   ]
  },
  {
   "cell_type": "markdown",
   "metadata": {},
   "source": [
    "정답 : len(cook)\n",
    "\n",
    "\n",
    "파이썬에서는 len() 함수를 사용하여 리스트에 저장된 데이터의 개수를 구할 수 있습니다.\n",
    "```python\n",
    "cook = [\"피자\", \"김밥\", \"만두\", \"양념치킨\", \"족발\", \"피자\", \"김치만두\", \"쫄면\"]\n",
    "print(len(cook))\n",
    "```"
   ]
  },
  {
   "cell_type": "markdown",
   "metadata": {},
   "source": [
    "---"
   ]
  },
  {
   "cell_type": "markdown",
   "metadata": {
    "id": "Cp7IpuJBFcq2"
   },
   "source": [
    "__[문제5]__\n",
    "\n",
    "price 변수에는 날짜와 종가 정보가 저장돼 있습니다.\n",
    "날짜 정보를 제외하고 가격 정보만을 출력해주세요\n",
    "\n",
    "```price = ['20180728', 100, 130, 140, 150, 160, 170]```\n",
    "\n",
    "<br>\n",
    "출력 예) [100, 130, 140, 150, 160, 170]"
   ]
  },
  {
   "cell_type": "markdown",
   "metadata": {},
   "source": [
    "정답 : price[1:]\n",
    "\n",
    "\n",
    "price[1:]는 price 리스트의 첫 번째 인덱스부터 끝까지의 값을 선택합니다. \n",
    "\n",
    "따라서 이 코드는 '20180728'을 제외한 나머지 값을 가지는 새로운 리스트 new_price를 만듭니다. \n",
    "\n",
    "이렇게 슬라이싱을 사용하면 리스트의 특정 범위의 값을 쉽게 선택할 수 있습니다.\n",
    "```python\n",
    "price = ['20180728', 100, 130, 140, 150, 160, 170]\n",
    "\n",
    "new_price = price[1:]\n",
    "\n",
    "print(new_price)\n",
    "```"
   ]
  },
  {
   "cell_type": "markdown",
   "metadata": {},
   "source": [
    "---"
   ]
  },
  {
   "cell_type": "markdown",
   "metadata": {
    "id": "1DwclZivGe72"
   },
   "source": [
    "__[문제6]__\n",
    "\n",
    "<br>\n",
    "다음 딕셔너리를 사용하여 메로나 가격을 출력해주세요\n",
    "\n",
    "```ice = {'메로나': 1000,```<br>\n",
    "&emsp;&emsp;&emsp;&emsp;```'폴로포': 1200,```<br>\n",
    "&emsp;&emsp;&emsp;&emsp;```'빵빠레': 1800,```<br>\n",
    "&emsp;&emsp;&emsp;&emsp;```'죠스바': 1200,```<br>\n",
    "&emsp;&emsp;&emsp;&emsp;```'월드콘': 1500}```<br>\n",
    "\n",
    "<br>\n",
    "출력 예) 메로나 가격: 1000"
   ]
  },
  {
   "cell_type": "markdown",
   "metadata": {},
   "source": [
    "정답 : print(\"메로나 가격:\", ice['메로나'])\n",
    "\n",
    "\n",
    "딕셔너리에서 특정 키에 대응하는 값을 찾으려면 딕셔너리[키] 형태로 접근합니다. \n",
    "\n",
    "따라서 ice['메로나']는 딕셔너리 ice에서 '메로나'라는 키에 해당하는 값을 반환합니다. \n",
    "\n",
    "이렇게 반환된 값은 \"메로나의 가격: \"라는 문자열과 함께 출력됩니다.\n",
    "\n",
    "이 코드는 딕셔너리 ice에서 '메로나'의 가격을 출력하는 코드입니다. 이렇게 딕셔너리를 사용하면 키와 값을 쌍으로 저장하여 효율적으로 사용할 수 있습니다.\n",
    "\n",
    "```python\n",
    "ice = {'메로나': 1000, '폴로포': 1200, '빵빠레': 1800, '죠스바': 1200, '월드콘': 1500}\n",
    "\n",
    "print(\"메로나의 가격:\", ice['메로나'])\n",
    "```"
   ]
  },
  {
   "cell_type": "markdown",
   "metadata": {},
   "source": [
    "---"
   ]
  },
  {
   "cell_type": "markdown",
   "metadata": {
    "id": "mBs2AaqcJAXN"
   },
   "source": [
    "__[문제6-1]__\n",
    "\n",
    "다음 딕셔너리에서 메로나의 가격을 1300으로 수정해주세요\n",
    "\n",
    "```ice = {'메로나': 1000,```<br>\n",
    "&emsp;&emsp;&emsp;&emsp;```'폴로포': 1200,```<br>\n",
    "&emsp;&emsp;&emsp;&emsp;```'빵빠레': 1800,```<br>\n",
    "&emsp;&emsp;&emsp;&emsp;```'죠스바': 1200,```<br>\n",
    "&emsp;&emsp;&emsp;&emsp;```'월드콘': 1500}```<br>"
   ]
  },
  {
   "cell_type": "markdown",
   "metadata": {},
   "source": [
    "정답 : ice[’메로나’] = 1300\n",
    "\n",
    "\n",
    "ice['메로나'] = 1300은 딕셔너리 ice에서 '메로나'라는 키에 해당하는 값을 1300으로 변경합니다. \n",
    "```python\n",
    "ice['메로나'] = 1300\n",
    "print(ice)\n",
    "```"
   ]
  },
  {
   "cell_type": "markdown",
   "metadata": {},
   "source": [
    "---"
   ]
  },
  {
   "cell_type": "markdown",
   "metadata": {
    "id": "_ZdcVEtTJKS1"
   },
   "source": [
    "__[문제7]__\n",
    "\n",
    "아래 순서대로 주어진 수강생 이름과 등급을 하나의 딕셔너리로 만드는 코드를 작성해주세요\n",
    "\n",
    "\n",
    "names : 나이썬, 김자바, 김씨, 박씨샵  \n",
    "grades :   B       B      A      C\n"
   ]
  },
  {
   "cell_type": "markdown",
   "metadata": {},
   "source": [
    "정답 : dict(zip(names, grades))\n",
    "\n",
    "\n",
    "zip() 함수는 names와 grades 리스트를 한 쌍으로 묶어줍니다. \n",
    "\n",
    "즉, zip(names, grades)는 [(\"나이썬\", \"B\"), (\"김자바\", \"B\"), (\"김씨\", \"A\"), (\"박씨샵\", \"C\")]와 같은 형태의 값을 반환합니다.\n",
    "\n",
    "dict() 함수는 이 값을 딕셔너리로 변환합니다.\n",
    "\n",
    "```python\n",
    "names = ['나이썬', '김자바', '김씨', '박씨샵']\n",
    "grades = ['B', 'B', 'A', 'C']\n",
    "\n",
    "# zip() 함수를 사용하여 names와 grades를 결합하고 딕셔너리로 변환\n",
    "result = dict(zip(names, grades))\n",
    "\n",
    "# 결과 출력\n",
    "result = dict\n",
    "```"
   ]
  },
  {
   "cell_type": "markdown",
   "metadata": {},
   "source": [
    "---"
   ]
  },
  {
   "cell_type": "markdown",
   "metadata": {
    "id": "yzi6f2-YKsk4"
   },
   "source": [
    "__[문제8]__\n",
    "\n",
    "아래 ice 딕셔너리에 데이터를 추가 후 출력해주세요\n",
    "\n",
    "ice = {\"메로나\": [300, 20],  \n",
    "              \"비비빅\": [400, 3],  \n",
    "              \"죠스바\": [250, 100]}  \n",
    "\n",
    "\n",
    "추가해야하는 데이터) 이름 : 보석바, 가격:650, 재고:10"
   ]
  },
  {
   "cell_type": "markdown",
   "metadata": {},
   "source": [
    "정답 : ice[”보석바”] = [650, 10]\n",
    "\n",
    "ice[\"보석바\"] = [650, 10]은 딕셔너리 ice에 '보석바'라는 새로운 키와 [650, 10]이라는 새로운 값을 추가합니다. \n",
    "\n",
    "```python\n",
    "ice['보석바'] = [650, 10]\n",
    "print(ice)\n",
    "```"
   ]
  },
  {
   "cell_type": "markdown",
   "metadata": {},
   "source": [
    "---"
   ]
  },
  {
   "cell_type": "markdown",
   "metadata": {
    "id": "RQJC80PBLWGt"
   },
   "source": [
    "__[문제9]__\n",
    "\n",
    "아래 딕셔너리에서 key만 list 형태로 출력해주세요 \n",
    "\n",
    "ice = {'메로나': 1000, '폴로포': 1200, '빵빠레': 1800, '죠스바': 1200, '월드콘': 1500}\n"
   ]
  },
  {
   "cell_type": "markdown",
   "metadata": {},
   "source": [
    "정답 : ice.keys()\n",
    "\n",
    "ice.keys()는 딕셔너리 ice의 모든 키를 반환합니다. list() 함수를 사용하여 이를 리스트로 변환 후 출력합니다.\n",
    "\n",
    "```python\n",
    "ice = {'메로나': 1000, '폴로포': 1200, '빵빠레': 1800, '죠스바': 1200, '월드콘': 1500}\n",
    "\n",
    "print(list(ice.keys()))\n",
    "```"
   ]
  }
 ],
 "metadata": {
  "colab": {
   "authorship_tag": "ABX9TyOA/CeX7CUdbTKFxV0fsocV",
   "provenance": []
  },
  "kernelspec": {
   "display_name": "Python 3",
   "name": "python3"
  },
  "language_info": {
   "name": "python"
  }
 },
 "nbformat": 4,
 "nbformat_minor": 0
}
