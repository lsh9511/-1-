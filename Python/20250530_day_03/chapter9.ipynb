{
 "cells": [
  {
   "cell_type": "markdown",
   "id": "a27e509d",
   "metadata": {},
   "source": [
    "## 입력과 출력\n",
    "\n",
    "* 입력 : input()\n",
    "* 출력 : print()\n",
    "\n",
    "#####함수와 메서드\n",
    ">함수 : 어디에 속해있지 않고 단독 모듈이라 함수를 그냥 호출하여 사용이 가능합니다.\n",
    "\n",
    "예) print(),input()\n",
    "\n",
    ">메서드 : 함수의 클래스 안에 속해 있고 클래스의 멤버 변수들을 이용해서 구현된 것입니다.\n",
    "\n",
    "예) \"까먹으신건가요?\".count(\"까\")/\n",
    "\n",
    "예) \"까먹으신건가요?\".index(\"까\")"
   ]
  },
  {
   "cell_type": "code",
   "execution_count": 1,
   "id": "6b7b3530",
   "metadata": {},
   "outputs": [
    {
     "data": {
      "text/plain": [
       "1"
      ]
     },
     "execution_count": 1,
     "metadata": {},
     "output_type": "execute_result"
    }
   ],
   "source": [
    "\"까먹으신건가요?\".count(\"까\")"
   ]
  },
  {
   "cell_type": "code",
   "execution_count": 2,
   "id": "f71631eb",
   "metadata": {},
   "outputs": [
    {
     "data": {
      "text/plain": [
       "0"
      ]
     },
     "execution_count": 2,
     "metadata": {},
     "output_type": "execute_result"
    }
   ],
   "source": [
    "\"까먹으신건가요?\".index(\"까\")"
   ]
  },
  {
   "cell_type": "code",
   "execution_count": 17,
   "id": "64d68191",
   "metadata": {},
   "outputs": [
    {
     "name": "stdout",
     "output_type": "stream",
     "text": [
      "<class 'str'>\n"
     ]
    }
   ],
   "source": [
    "\n",
    "인사 = input(\"(우리학교 최고 존잘남)아....안녕\")\n",
    "print(type(인사))\n",
    "\n",
    "\n"
   ]
  },
  {
   "cell_type": "code",
   "execution_count": 19,
   "id": "9e6ab83e",
   "metadata": {},
   "outputs": [],
   "source": [
    "# 그 외 입력값의 형 변환이 가능한 종류\n",
    "# tuple()\n",
    "# list()\n",
    "# dict()\n",
    "# set()\n"
   ]
  },
  {
   "cell_type": "code",
   "execution_count": 28,
   "id": "b7ff5739",
   "metadata": {},
   "outputs": [
    {
     "ename": "ValueError",
     "evalue": "not enough values to unpack (expected 2, got 1)",
     "output_type": "error",
     "traceback": [
      "\u001b[0;31m---------------------------------------------------------------------------\u001b[0m",
      "\u001b[0;31mValueError\u001b[0m                                Traceback (most recent call last)",
      "Cell \u001b[0;32mIn[28], line 1\u001b[0m\n\u001b[0;32m----> 1\u001b[0m a,b \u001b[38;5;241m=\u001b[39m \u001b[38;5;28minput\u001b[39m()\u001b[38;5;241m.\u001b[39msplit(\u001b[38;5;124m\"\u001b[39m\u001b[38;5;124m,\u001b[39m\u001b[38;5;124m\"\u001b[39m)\n\u001b[1;32m      2\u001b[0m \u001b[38;5;28mprint\u001b[39m(\u001b[38;5;124mf\u001b[39m\u001b[38;5;124m'\u001b[39m\u001b[38;5;124m넌센스 퀴즈 :\u001b[39m\u001b[38;5;132;01m{\u001b[39;00ma\u001b[38;5;132;01m}\u001b[39;00m\u001b[38;5;124m'\u001b[39m)\n\u001b[1;32m      3\u001b[0m \u001b[38;5;28mprint\u001b[39m(\u001b[38;5;124mf\u001b[39m\u001b[38;5;124m'\u001b[39m\u001b[38;5;124m정답 :\u001b[39m\u001b[38;5;132;01m{\u001b[39;00mb\u001b[38;5;132;01m}\u001b[39;00m\u001b[38;5;124m'\u001b[39m)\n",
      "\u001b[0;31mValueError\u001b[0m: not enough values to unpack (expected 2, got 1)"
     ]
    }
   ],
   "source": [
    "a,b = input().split(\",\")\n",
    "print(f'넌센스 퀴즈 :{a}')\n",
    "print(f'정답 :{b}')\n",
    "\n"
   ]
  },
  {
   "cell_type": "code",
   "execution_count": 32,
   "id": "ea1a4e96",
   "metadata": {},
   "outputs": [
    {
     "name": "stdout",
     "output_type": "stream",
     "text": [
      "<class 'int'> 123 123 123\n"
     ]
    }
   ],
   "source": [
    "#시퀀스 자료형에 다 지원되는 메소드\n",
    "번호1, 번호2, 번호3 ,번호4 = input().split(\",\")\n",
    "\n",
    "번호1 = int(번호1)\n",
    "번호2 = int(번호2)\n",
    "번호3 = int(번호3)\n",
    "번호4 = int(번호4)\n",
    "\n",
    "print(type(번호1), 번호2, 번호3 ,번호4 )"
   ]
  },
  {
   "cell_type": "code",
   "execution_count": 37,
   "id": "3dcd6b0e",
   "metadata": {},
   "outputs": [
    {
     "name": "stdout",
     "output_type": "stream",
     "text": [
      "123 123 123 123\n"
     ]
    }
   ],
   "source": [
    "#map() 함수\n",
    "번호1, 번호2, 번호3 ,번호4 = map(int, input().split(\",\"))\n",
    "\n",
    "print(번호1, 번호2, 번호3 ,번호4)"
   ]
  },
  {
   "cell_type": "code",
   "execution_count": null,
   "id": "ab6634a4",
   "metadata": {},
   "outputs": [],
   "source": [
    "\n"
   ]
  }
 ],
 "metadata": {
  "kernelspec": {
   "display_name": "Python 3",
   "language": "python",
   "name": "python3"
  },
  "language_info": {
   "codemirror_mode": {
    "name": "ipython",
    "version": 3
   },
   "file_extension": ".py",
   "mimetype": "text/x-python",
   "name": "python",
   "nbconvert_exporter": "python",
   "pygments_lexer": "ipython3",
   "version": "3.9.6"
  }
 },
 "nbformat": 4,
 "nbformat_minor": 5
}
