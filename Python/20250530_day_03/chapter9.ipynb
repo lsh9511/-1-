{
 "cells": [
  {
   "cell_type": "markdown",
   "id": "a27e509d",
   "metadata": {},
   "source": [
    "## 입력과 출력\n",
    "\n",
    "* 입력 : input()\n",
    "* 출력 : print()\n",
    "\n",
    "#####함수와 메서드\n",
    ">함수 : 어디에 속해있지 않고 단독 모듈이라 함수를 그냥 호출하여 사용이 가능합니다.\n",
    "\n",
    "예) print(),input()\n",
    "\n",
    ">메서드 : 함수의 클래스 안에 속해 있고 클래스의 멤버 변수들을 이용해서 구현된 것입니다.\n",
    "\n",
    "예) \"까먹으신건가요?\".count(\"까\")/\n",
    "\n",
    "예) \"까먹으신건가요?\".index(\"까\")"
   ]
  },
  {
   "cell_type": "code",
   "execution_count": 1,
   "id": "6b7b3530",
   "metadata": {},
   "outputs": [
    {
     "data": {
      "text/plain": [
       "1"
      ]
     },
     "execution_count": 1,
     "metadata": {},
     "output_type": "execute_result"
    }
   ],
   "source": [
    "\"까먹으신건가요?\".count(\"까\")"
   ]
  },
  {
   "cell_type": "code",
   "execution_count": 2,
   "id": "f71631eb",
   "metadata": {},
   "outputs": [
    {
     "data": {
      "text/plain": [
       "0"
      ]
     },
     "execution_count": 2,
     "metadata": {},
     "output_type": "execute_result"
    }
   ],
   "source": [
    "\"까먹으신건가요?\".index(\"까\")"
   ]
  },
  {
   "cell_type": "code",
   "execution_count": 39,
   "id": "64d68191",
   "metadata": {},
   "outputs": [
    {
     "name": "stdout",
     "output_type": "stream",
     "text": [
      "ㅎㅇ\n"
     ]
    }
   ],
   "source": [
    "\n",
    "인사 = input(\"(우리학교 최고 존잘남)아....안녕\")\n",
    "print(인사)\n",
    "\n",
    "\n"
   ]
  },
  {
   "cell_type": "code",
   "execution_count": 19,
   "id": "9e6ab83e",
   "metadata": {},
   "outputs": [],
   "source": [
    "# 그 외 입력값의 형 변환이 가능한 종류\n",
    "# tuple()\n",
    "# list()\n",
    "# dict()\n",
    "# set()\n"
   ]
  },
  {
   "cell_type": "code",
   "execution_count": 46,
   "id": "b7ff5739",
   "metadata": {},
   "outputs": [
    {
     "name": "stdout",
     "output_type": "stream",
     "text": [
      "넌센스 퀴즈 :붕어빵의 갯수는? \n",
      "정답 : 2개\n"
     ]
    }
   ],
   "source": [
    "a,b = input().split(\",\")\n",
    "print(f'넌센스 퀴즈 :{a}')\n",
    "print(f'정답 :{b}')\n",
    "\n"
   ]
  },
  {
   "cell_type": "code",
   "execution_count": 32,
   "id": "ea1a4e96",
   "metadata": {},
   "outputs": [
    {
     "name": "stdout",
     "output_type": "stream",
     "text": [
      "<class 'int'> 123 123 123\n"
     ]
    }
   ],
   "source": [
    "#시퀀스 자료형에 다 지원되는 메소드\n",
    "번호1, 번호2, 번호3 ,번호4 = input().split(\",\")\n",
    "\n",
    "번호1 = int(번호1)\n",
    "번호2 = int(번호2)\n",
    "번호3 = int(번호3)\n",
    "번호4 = int(번호4)\n",
    "\n",
    "print(type(번호1), 번호2, 번호3 ,번호4 )"
   ]
  },
  {
   "cell_type": "code",
   "execution_count": 37,
   "id": "3dcd6b0e",
   "metadata": {},
   "outputs": [
    {
     "name": "stdout",
     "output_type": "stream",
     "text": [
      "123 123 123 123\n"
     ]
    }
   ],
   "source": [
    "#map() 함수\n",
    "번호1, 번호2, 번호3 ,번호4 = map(int, input().split(\",\"))\n",
    "\n",
    "print(번호1, 번호2, 번호3 ,번호4)"
   ]
  },
  {
   "cell_type": "code",
   "execution_count": null,
   "id": "ab6634a4",
   "metadata": {},
   "outputs": [],
   "source": [
    "#레거시 : 누군가 남겨두고간 코드\n",
    "#리팩토링 : 결과의 변경 없이 코드의 구조를 재조정하는 것입니다.\n",
    "\n",
    "#정답 or 가독성과 코드값 최소화\n",
    "fish_p, fish_s, fish_j = input('붕어빵(팥),붕어빵(슈크림),붕어빵(잡채) 갯수를 순서대로 입력 해주세요')\n",
    "fish_p_sell, fish_s_sell, fish_j_sell = 2000, 2500, 3000\n",
    "\n",
    "#붕어빵 계산값\n",
    "order_p_pay, order_s_pay, order_j_pay = fish_p_sell*order_p, fish_s_sell*order_s, fish_j_sell*order_j\n",
    "total = order_p + order_s + order_j\n",
    "total_pay = order_p_pay + order_s_pay + order_j_pay\n",
    "\n",
    "\n",
    "print(\"주문이 완료되었습니다. 붕어빵(팥)\"input()\"개\", \"붕어빵(잡채)\"개\", {fish_j}{order_j}개 총 {total}개 결제금액은 {total_pay}원 입니다.\")"
   ]
  },
  {
   "cell_type": "code",
   "execution_count": 55,
   "id": "0387f971",
   "metadata": {},
   "outputs": [
    {
     "name": "stdout",
     "output_type": "stream",
     "text": [
      "붕어빵(팥) 3개, 붕어빵(슈크림) 4개, 붕어빵(잡채) 3개 결제하실 금액은 25000원입니다\n"
     ]
    }
   ],
   "source": [
    "# 붕어빵(팥) 2000원 붕어빵(슈크림) 2500원 붕어빵(잡채) 3000원\n",
    "\n",
    "a ,b , c  = input(\"주문하세요\").split(',')\n",
    "\n",
    "\n",
    "#주문이 완료되었습니다. 붕어빵(팥) n개, 붕어빵(슈크림) n개, 붕어빵(잡채) n개 결제하실 금액은 m원입니다. \n",
    "\n",
    "fish_p = 2000\n",
    "fish_s = 2500\n",
    "fish_j = 3000\n",
    "\n",
    "\n",
    "\n",
    "print(f\"붕어빵(팥) {a}개, 붕어빵(슈크림) {b}개, 붕어빵(잡채) {c}개 결제하실 금액은 {fish_p*int(a) + fish_s*int(b) + fish_j*int(c)}원입니다\")\n"
   ]
  }
 ],
 "metadata": {
  "kernelspec": {
   "display_name": "Python 3",
   "language": "python",
   "name": "python3"
  },
  "language_info": {
   "codemirror_mode": {
    "name": "ipython",
    "version": 3
   },
   "file_extension": ".py",
   "mimetype": "text/x-python",
   "name": "python",
   "nbconvert_exporter": "python",
   "pygments_lexer": "ipython3",
   "version": "3.9.6"
  }
 },
 "nbformat": 4,
 "nbformat_minor": 5
}
