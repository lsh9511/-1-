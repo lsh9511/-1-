{
 "cells": [
  {
   "cell_type": "markdown",
   "metadata": {},
   "source": [
    "안녕하세요. 수강생 여러분~! Chapter21 ~ 32 수업은 잘 들으셨나요?\n",
    "\n",
    "Chapter21 ~ 32의 수업 내용을 바탕으로 아래 문제를 풀어주시면 됩니다.\n",
    "\n",
    "\n",
    "<br>\n",
    "\n",
    "\n",
    "[**답변 입력 방법**]\n",
    "\n",
    "문제 아래에 있는 코드 입력창에 정답코드를 작성하신 후  __▷ 버튼을 클릭해 코드를 실행__ 해보세요<br>"
   ]
  },
  {
   "cell_type": "markdown",
   "metadata": {},
   "source": [
    "---"
   ]
  },
  {
   "cell_type": "markdown",
   "metadata": {},
   "source": [
    "[문제 1]\n",
    "사용자로부터 이름과 나이를 입력 받아, \"안녕하세요, [이름]님! 당신은 [나이]살입니다.\"라고 출력하는 함수 greet_user를 작성하세요."
   ]
  },
  {
   "cell_type": "markdown",
   "metadata": {},
   "source": [
    "---"
   ]
  },
  {
   "cell_type": "code",
   "execution_count": 14,
   "metadata": {},
   "outputs": [
    {
     "name": "stdout",
     "output_type": "stream",
     "text": [
      "안녕하세요, 이상환님! 당신은 32살 입니다.\n"
     ]
    }
   ],
   "source": [
    "def greet_user() :\n",
    "    name = input(\"이름을 입력하세요 : \")\n",
    "    age = input(\"나이를 입력하세요 : \")\n",
    "\n",
    "    print(f'안녕하세요, {name}님! 당신은 {age}살 입니다.')\n",
    "\n",
    "greet_user()"
   ]
  },
  {
   "cell_type": "code",
   "execution_count": null,
   "metadata": {},
   "outputs": [],
   "source": []
  },
  {
   "cell_type": "markdown",
   "metadata": {},
   "source": [
    "[문제 2] 여러 숫자를 입력받아 그 합계를 반환하는 함수 sum_numbers를 작성하세요. 이 때, 가변 매개변수를 사용하세요."
   ]
  },
  {
   "cell_type": "code",
   "execution_count": null,
   "metadata": {},
   "outputs": [
    {
     "name": "stdout",
     "output_type": "stream",
     "text": [
      "입력한 숫자들 : [3, 6589, 231, 34]\n",
      "합계 :6857\n"
     ]
    }
   ],
   "source": [
    "# def sum_numbers(*values) : \n",
    "#     values = int((input('더하고 싶은 숫자를 입력하세요 : ')))\n",
    "    \n",
    "#     result =sum(values)\n",
    "# sum_numbers()\n",
    "# 여러 숫자를 입력받아야 하는 상황에서 input은 하나의 값만 받는다는걸 암(스텝업)\n",
    "def sum_numbers() :\n",
    "    numbers_str = input('더하고 싶은 숫자를 공백으로 구분해서 입력하세요 :')\n",
    "    numbers = []\n",
    "    for i in numbers_str.split() :\n",
    "        numbers.append(int(i))\n",
    "    result = sum(numbers)\n",
    "    print(f\"입력한 숫자들 : {numbers}\")\n",
    "    print(f\"합계 :{result}\")\n",
    "\n",
    "sum_numbers()\n",
    "# 지피티를 통해 진행하였지만 혼자서 진행해보고 매 결과마다 오류가 나는 값 찾아서 진행\n"
   ]
  },
  {
   "cell_type": "markdown",
   "metadata": {},
   "source": [
    "---"
   ]
  },
  {
   "cell_type": "markdown",
   "metadata": {},
   "source": [
    "[문제 3] 사용자의 이름을 출력하는 함수 print_name을 작성하세요. 만약 이름이 주어지지 않았다면, 기본값으로 \"익명\"을 사용하세요."
   ]
  },
  {
   "cell_type": "code",
   "execution_count": null,
   "metadata": {},
   "outputs": [
    {
     "name": "stdout",
     "output_type": "stream",
     "text": [
      "당신의 이름은 입니다.\n",
      "당신의 이름은 익명입니다.\n"
     ]
    }
   ],
   "source": [
    "def print_name(n=\"익명\") :\n",
    "    n = input('이름을 입력하시오 :')\n",
    "    print(f'당신의 이름은 {n}입니다.')\n",
    "\n",
    "print_name()\n",
    "#매개변수를 input으로 덮으면 출력되지 않는다??? \n",
    "def print_name(n=\"익명\") :\n",
    "    print(f'당신의 이름은 {n}입니다.')\n",
    "print_name()"
   ]
  },
  {
   "cell_type": "markdown",
   "metadata": {},
   "source": [
    "---"
   ]
  },
  {
   "cell_type": "markdown",
   "metadata": {},
   "source": [
    "[문제 4] 사용자의 이름, 나이, 성별을 출력하는 함수 print_info를 작성하세요. 이 때, 모든 매개변수는 키워드 매개변수로만 받도록 하세요."
   ]
  },
  {
   "cell_type": "code",
   "execution_count": null,
   "metadata": {},
   "outputs": [
    {
     "name": "stdout",
     "output_type": "stream",
     "text": [
      "사용자의 이름은 이상환이고 나이는 32살 이며 성별은 남입니다.\n"
     ]
    }
   ],
   "source": [
    "def print_info(n=\"이상환\",a=\"32\",g=\"남\") : \n",
    "    print(f'사용자의 이름은 {n}이고 나이는 {a}살 이며 성별은 {g}입니다.')\n",
    "\n",
    "print_info()"
   ]
  },
  {
   "cell_type": "markdown",
   "metadata": {},
   "source": [
    "---"
   ]
  },
  {
   "cell_type": "markdown",
   "metadata": {},
   "source": [
    "[문제 5] 두 개의 정수를 받아 합을 반환하는 함수 add를 작성하세요. 매개변수와 반환값에 타입 어노테이션을 추가하세요."
   ]
  },
  {
   "cell_type": "code",
   "execution_count": null,
   "metadata": {},
   "outputs": [
    {
     "data": {
      "text/plain": [
       "7"
      ]
     },
     "execution_count": 29,
     "metadata": {},
     "output_type": "execute_result"
    }
   ],
   "source": [
    "def numbers_sum(a : int,b : int) -> int : \n",
    "    return a+b\n",
    "numbers_sum(5,2)\n",
    "# 리턴에 대한 정의 다시 공부해보기\n"
   ]
  },
  {
   "cell_type": "markdown",
   "metadata": {},
   "source": [
    "---"
   ]
  },
  {
   "cell_type": "markdown",
   "metadata": {},
   "source": [
    "[문제 6] 0부터 시작하여 n까지의 숫자 중에서 홀수만 생성하는 제너레이터 odd_numbers를 작성하세요."
   ]
  },
  {
   "cell_type": "code",
   "execution_count": 38,
   "metadata": {},
   "outputs": [
    {
     "name": "stdout",
     "output_type": "stream",
     "text": [
      "[1, 3, 5, 7]\n",
      "[1, 3, 5, 7, 9]\n"
     ]
    }
   ],
   "source": [
    "def odd_numbers(n) :\n",
    "    answer = []\n",
    "    for i in range(n) :\n",
    "        if i % 2 == 1 :\n",
    "            answer.append(i)\n",
    "    print(answer)\n",
    "\n",
    "odd_numbers(9)\n",
    "# n까지가 아닌 n-1까지인걸 확인\n",
    "def odd_numbers(n) :\n",
    "    answer = []\n",
    "    for i in range(0,n+1) :\n",
    "        if i % 2 == 1 :\n",
    "            answer.append(i)\n",
    "    print(answer)\n",
    "\n",
    "odd_numbers(9)\n",
    "        "
   ]
  },
  {
   "cell_type": "markdown",
   "metadata": {},
   "source": [
    "---"
   ]
  },
  {
   "cell_type": "markdown",
   "metadata": {},
   "source": [
    "[문제 7] 두 숫자를 더하는 람다 함수를 작성하고, 이를 변수에 할당한 후 사용하세요."
   ]
  },
  {
   "cell_type": "code",
   "execution_count": null,
   "metadata": {},
   "outputs": [
    {
     "name": "stdout",
     "output_type": "stream",
     "text": [
      "\n",
      "15\n"
     ]
    }
   ],
   "source": [
    "sum_numbers = lambda i : i+i\n",
    "numbers_list = [5,10]\n",
    "print()\n",
    "#이론은 알겠으나 어떻게 활용할지를 모르겠음... \n",
    "add = lambda x,y: x+y\n",
    "print(add(10,5))\n",
    "#활용방법 확인 다른 방법들도 차근차근 풀어보기..."
   ]
  },
  {
   "cell_type": "markdown",
   "metadata": {},
   "source": []
  },
  {
   "cell_type": "markdown",
   "metadata": {},
   "source": [
    "---"
   ]
  },
  {
   "cell_type": "markdown",
   "metadata": {},
   "source": [
    "[문제 8] 사용자로부터 3개의 숫자를 입력받아, 이를 튜플로 만든 후 최소값과 최대값을 출력하는 함수 min_max를 작성하세요."
   ]
  },
  {
   "cell_type": "code",
   "execution_count": 56,
   "metadata": {},
   "outputs": [
    {
     "name": "stdout",
     "output_type": "stream",
     "text": [
      "최소값은 4 입니다.\n",
      "최대값은 55 입니다.\n"
     ]
    }
   ],
   "source": [
    "# def min_max() :\n",
    "#     numbers_str = input('3개의 숫자를 공백으로 구분하여 입력하시오 : ')\n",
    "#     numbers = []\n",
    "#     for i in numbers_str.split() :\n",
    "#         numbers.append(int(i))\n",
    "        \n",
    "#     numbers = tuple(numbers)    \n",
    "#     print('최소값은',numbers(min), '입니다.')\n",
    "#     print('최대값은',numbers(max), '입니다.')\n",
    "\n",
    "# min_max()        \n",
    "# min, max 함수 사용법 인지를 못함...\n",
    "def min_max() :\n",
    "    numbers_str = input('3개의 숫자를 공백으로 구분하여 입력하시오 : ')\n",
    "    numbers = []\n",
    "    for i in numbers_str.split() :\n",
    "        numbers.append(int(i))\n",
    "        \n",
    "    numbers = tuple(numbers)    \n",
    "    print('최소값은',min(numbers), '입니다.')\n",
    "    print('최대값은',max(numbers), '입니다.')\n",
    "\n",
    "min_max()   "
   ]
  },
  {
   "cell_type": "markdown",
   "metadata": {},
   "source": [
    "---"
   ]
  },
  {
   "cell_type": "markdown",
   "metadata": {},
   "source": [
    "[문제 9] 주어진 숫자가 짝수인지 확인하는 함수 is_even을 작성하세요. 짝수라면 True를, 아니라면 False를 반환하세요. 함수 내에서 조기 리턴을 활용하세요."
   ]
  },
  {
   "cell_type": "code",
   "execution_count": 71,
   "metadata": {},
   "outputs": [
    {
     "data": {
      "text/plain": [
       "True"
      ]
     },
     "execution_count": 71,
     "metadata": {},
     "output_type": "execute_result"
    }
   ],
   "source": [
    "# def is_even(n) :\n",
    "#     if n % 2 == 0 :\n",
    "#         result = True\n",
    "#     else :\n",
    "#         result = False\n",
    "#     return result\n",
    "\n",
    "# is_even(3)\n",
    "#조기리턴이 뭐지? 란 생각이듬 ㅋㅋ\n",
    "\n",
    "def is_even(n) : \n",
    "    if n % 2 == 0 :\n",
    "        return True\n",
    "    return False\n",
    "\n",
    "is_even(412)"
   ]
  },
  {
   "cell_type": "code",
   "execution_count": null,
   "metadata": {},
   "outputs": [],
   "source": []
  },
  {
   "cell_type": "markdown",
   "metadata": {},
   "source": []
  },
  {
   "cell_type": "markdown",
   "metadata": {},
   "source": [
    "---"
   ]
  },
  {
   "cell_type": "markdown",
   "metadata": {},
   "source": [
    "[문제 10] 팩토리얼을 계산하는 재귀 함수 factorial을 작성하세요."
   ]
  },
  {
   "cell_type": "code",
   "execution_count": 75,
   "metadata": {},
   "outputs": [
    {
     "data": {
      "text/plain": [
       "40320"
      ]
     },
     "execution_count": 75,
     "metadata": {},
     "output_type": "execute_result"
    }
   ],
   "source": [
    "# def factorial_func(n) :\n",
    "#     for i in range(n) :\n",
    "#        n*factorial_func(n-1)\n",
    "\n",
    "# 까먹음\n",
    "def factorial_func(n) : \n",
    "    if n == 0 :\n",
    "        return 1\n",
    "    else : \n",
    "        return n * factorial_func(n-1)\n",
    "factorial_func(8)\n",
    "       \n",
    "\n",
    "\n",
    "\n",
    "   \n"
   ]
  },
  {
   "cell_type": "markdown",
   "metadata": {},
   "source": [
    "---"
   ]
  },
  {
   "cell_type": "markdown",
   "metadata": {},
   "source": [
    "[문제 11] 문자열 리스트를 받아, 각 문자열의 길이를 출력하는 함수 print_lengths를 작성하세요."
   ]
  },
  {
   "cell_type": "code",
   "execution_count": 87,
   "metadata": {},
   "outputs": [
    {
     "name": "stdout",
     "output_type": "stream",
     "text": [
      "적은 메시지는 \"나는 천재다\"이고, 문자열의 길이는 6입니다.\n"
     ]
    }
   ],
   "source": [
    "def print_lengths() : \n",
    "    strings_list = input('문자열의 길이를 알려줍니다. 확인하고 싶은 문자열을 적으세요 : ')\n",
    "    return print(f'적은 메시지는 \"{strings_list}\"이고, 문자열의 길이는 {len(strings_list)}입니다.')\n",
    "print_lengths()"
   ]
  },
  {
   "cell_type": "markdown",
   "metadata": {},
   "source": [
    "---"
   ]
  },
  {
   "cell_type": "markdown",
   "metadata": {},
   "source": [
    "[문제 12] 두 문자열을 받아서 긴 문자열을 반환하는 함수 longer_string을 작성하세요. 만약 두 문자열의 길이가 같다면, 첫 번째 문자열을 반환하세요."
   ]
  },
  {
   "cell_type": "code",
   "execution_count": null,
   "metadata": {},
   "outputs": [
    {
     "name": "stdout",
     "output_type": "stream",
     "text": [
      "안녕 나는 상환이야개발자를 꿈꾸고 있지\n",
      "안녕 나는 상환이야\n"
     ]
    },
    {
     "data": {
      "text/plain": [
       "'안녕 나는 상환이야'"
      ]
     },
     "execution_count": 94,
     "metadata": {},
     "output_type": "execute_result"
    }
   ],
   "source": [
    "def longer_string(string_a,string_b) :\n",
    "    if len(string_a) ==len(string_b) : \n",
    "        return string_a\n",
    "    return (string_a + string_b)\n",
    "print(longer_string('안녕 나는 상환이야', '개발자를 꿈꾸고 있지')) # 긴 문자열을 반환했을 때 두 문자열을 구분하는 법을 모르겠음 \n",
    "print(longer_string('안녕 나는 상환이야','안녕 나는 상환이야')) # 같은 길이 확인완료\n",
    "longer_string('안녕 나는 상환이야','나는 개발자가꿈이야') # 같은 길이\n"
   ]
  }
 ],
 "metadata": {
  "kernelspec": {
   "display_name": "Python 3",
   "language": "python",
   "name": "python3"
  },
  "language_info": {
   "codemirror_mode": {
    "name": "ipython",
    "version": 3
   },
   "file_extension": ".py",
   "mimetype": "text/x-python",
   "name": "python",
   "nbconvert_exporter": "python",
   "pygments_lexer": "ipython3",
   "version": "3.9.6"
  }
 },
 "nbformat": 4,
 "nbformat_minor": 2
}
