{
 "cells": [
  {
   "cell_type": "markdown",
   "metadata": {},
   "source": [
    "안녕하세요. 수강생 여러분~! Chapter33 ~ 41 수업은 잘 들으셨나요?\n",
    "\n",
    "Chapter33 ~ 41의 수업 내용을 바탕으로 아래 문제를 풀어주시면 됩니다.\n",
    "\n",
    "\n",
    "<br>\n",
    "\n",
    "\n",
    "[**답변 입력 방법**]\n",
    "\n",
    "문제 아래에 있는 코드 입력창에 정답코드를 작성하신 후  __▷ 버튼을 클릭해 코드를 실행__ 해보세요<br>"
   ]
  },
  {
   "cell_type": "markdown",
   "metadata": {},
   "source": [
    "---"
   ]
  },
  {
   "cell_type": "markdown",
   "metadata": {},
   "source": [
    "[문제 1]\n",
    "\n",
    "사용자로부터 두 개의 숫자를 입력받아 나눗셈을 수행하는 프로그램을 작성하세요. \n",
    "\n",
    "[예외처리]\n",
    "- 입력 값이 숫자가 아닐 때 발생할 수 있는 ValueError\n",
    "- 나누는 수가 0일 때 발생할 수 있는 ZeroDivisionError\n",
    "- 위 2가지 예외처리 후 사용자에게 이해하기 쉬운 메시지 작성 후 출력되도록 코드를 작성"
   ]
  },
  {
   "cell_type": "code",
   "execution_count": null,
   "metadata": {},
   "outputs": [
    {
     "name": "stdout",
     "output_type": "stream",
     "text": [
      "나눈 값은 55.5입니다.\n"
     ]
    }
   ],
   "source": [
    "\n",
    "\n",
    "try:\n",
    "    x,y = map(int,input('나눗셈입니다. 숫자를 차례대로 입력하세요 : ').split(' '))\n",
    "\n",
    "    print(f'나눈 값은 {x/y}입니다.')\n",
    "\n",
    "except ValueError as exception :\n",
    "    print('정수를 입력하세요')\n",
    "    print('exception:',exception)\n",
    "    \n",
    "except ZeroDivisionError as exception : \n",
    "    print('나누는 수가 0으로는 진행할 수 없습니다.')\n",
    "    print('exception:',exception)\n",
    "# Input.split 활용잘하기"
   ]
  },
  {
   "cell_type": "markdown",
   "metadata": {},
   "source": [
    "---"
   ]
  },
  {
   "cell_type": "markdown",
   "metadata": {},
   "source": [
    "[문제 2]\n",
    "\n",
    "파일을 읽어서 내용을 출력하는 프로그램을 작성하세요. \n",
    "\n",
    "- 파일이 존재하지 않을 때 발생하는 FileNotFoundError를 처리\n",
    "- 파일이 존재하지 않을 경우 \"파일을 찾을 수 없습니다.\"라는 메시지를 출력"
   ]
  },
  {
   "cell_type": "code",
   "execution_count": null,
   "metadata": {},
   "outputs": [
    {
     "name": "stdout",
     "output_type": "stream",
     "text": [
      "파일을 찾을 수 없습니다.\n",
      "exception: [Errno 2] No such file or directory: 'txt1.txt'\n"
     ]
    }
   ],
   "source": [
    "try : \n",
    "    filename = input('읽을 파일명을 입력하세요:')\n",
    "\n",
    "    with open(filename,'r',encoding='utf-8') as file :\n",
    "        content = file.read()\n",
    "        print('\\n=== 파일 내용 ===')\n",
    "        print(content)\n",
    "\n",
    "except FileNotFoundError as exception :\n",
    "    print('파일을 찾을 수 없습니다.')\n",
    "    print('exception:',exception)\n"
   ]
  },
  {
   "cell_type": "markdown",
   "metadata": {},
   "source": [
    "---"
   ]
  },
  {
   "cell_type": "markdown",
   "metadata": {},
   "source": [
    "[문제 3]\n",
    "\n",
    "사용자로부터 여러 개의 숫자를 입력받아 리스트에 저장한 후, 사용자가 'done'이라고 입력할 때까지 계속 입력받으세요. \n",
    "\n",
    "- 입력 중 숫자가 아닌 값이 입력되면 ValueError를 처리\n",
    "- 숫자 외 값이 입력된 경우 어떤 값이 잘못 입력되었는지 사용자에게 알려주는 문구 출력<br>\n",
    "  (예: f\"잘못된 값: {변수}. 숫자를 입력해주세요.\")\n",
    "\n"
   ]
  },
  {
   "cell_type": "code",
   "execution_count": 18,
   "metadata": {},
   "outputs": [
    {
     "name": "stdout",
     "output_type": "stream",
     "text": [
      "현재 저장된 숫자:[1]\n",
      "현재 저장된 숫자:[1, 2]\n",
      "현재 저장된 숫자:[1, 2, 3]\n",
      "현재 저장된 숫자:[1, 2, 3, 4]\n",
      "현재 저장된 숫자:[1, 2, 3, 4, 5]\n",
      "현재 저장된 숫자:[1, 2, 3, 4, 5, 6]\n",
      "현재 저장된 숫자:[1, 2, 3, 4, 5, 6, 7]\n",
      "입력하신 숫자는 [1, 2, 3, 4, 5, 6, 7]입니다.\n"
     ]
    }
   ],
   "source": [
    "# while True :\n",
    "#     try : \n",
    "#         x = input('저장하고 싶은 숫자를 입력하세요(done 입력시 종료) :')\n",
    "#         num_list = []\n",
    "#         num_list.append(int(x)) \n",
    "\n",
    "#     except ValueError as exception : \n",
    "#         print(f'잘못된 값: {x} 정수를 입력해주세요.')\n",
    "#         print('exception:',exception)\n",
    "\n",
    "#     if x == 'done' :\n",
    "#         print(f'입력하신 숫자는 {num_list}입니다.)\n",
    "#         break  \n",
    "\n",
    "#하 거의 다푼거같은데;; 1.num_list가 반복문안에 있어 매번 초기화 2.'done' 입력시 int()변환으로 인해 ValueError발생\n",
    "\n",
    "num_list = []\n",
    "\n",
    "while True : \n",
    "     x = input('저장하고 싶은 숫자를 입력하세요(done 입력시 종료) :')\n",
    "\n",
    "     if x == 'done' :\n",
    "        print(f'입력하신 숫자는 {num_list}입니다.')\n",
    "        break\n",
    "     \n",
    "     try:\n",
    "         num_list.append(int(x))\n",
    "         print(f'현재 저장된 숫자:{num_list}')\n",
    "\n",
    "     except ValueError as exception :\n",
    "         print(f'잘못된 값:{x} 정수를 입력해주세요.')\n",
    "         print('exception:',exception)\n",
    "         \n",
    "    "
   ]
  },
  {
   "cell_type": "markdown",
   "metadata": {},
   "source": [
    "---"
   ]
  },
  {
   "cell_type": "markdown",
   "metadata": {},
   "source": [
    "[문제 4]\n",
    "\n",
    "사용자 정의 예외 NegativeNumberError를 생성하고, 사용자로부터 숫자를 입력받아 음수일 경우 NegativeNumberError를 발생시키는 프로그램을 작성하세요. \n",
    "\n",
    "- 예외 처리 구문을 사용하여 음수 입력 시 \"양수를 입력해주세요.\"라는 메시지를 출력"
   ]
  },
  {
   "cell_type": "code",
   "execution_count": 24,
   "metadata": {},
   "outputs": [
    {
     "ename": "NameError",
     "evalue": "name 'NegativeNumberError' is not defined",
     "output_type": "error",
     "traceback": [
      "\u001b[31m---------------------------------------------------------------------------\u001b[39m",
      "\u001b[31mNameError\u001b[39m                                 Traceback (most recent call last)",
      "\u001b[36mCell\u001b[39m\u001b[36m \u001b[39m\u001b[32mIn[24]\u001b[39m\u001b[32m, line 5\u001b[39m\n\u001b[32m      2\u001b[39m n = \u001b[38;5;28mint\u001b[39m(n)\n\u001b[32m      4\u001b[39m \u001b[38;5;28;01mif\u001b[39;00m n < \u001b[32m0\u001b[39m : \n\u001b[32m----> \u001b[39m\u001b[32m5\u001b[39m     \u001b[38;5;28;01mraise\u001b[39;00m \u001b[43mNegativeNumberError\u001b[49m\n\u001b[32m      7\u001b[39m \u001b[38;5;28;01melse\u001b[39;00m : \u001b[38;5;28mprint\u001b[39m(\u001b[33mf\u001b[39m\u001b[33m'\u001b[39m\u001b[33m입력한 숫자는 \u001b[39m\u001b[38;5;132;01m{\u001b[39;00mn\u001b[38;5;132;01m}\u001b[39;00m\u001b[33m입니다.\u001b[39m\u001b[33m'\u001b[39m)    \n",
      "\u001b[31mNameError\u001b[39m: name 'NegativeNumberError' is not defined"
     ]
    }
   ],
   "source": [
    "n = input('숫자를 입력하세요 :')\n",
    "n = int(n)\n",
    "\n",
    "if n < 0 : \n",
    "    raise NegativeNumberError\n",
    "    \n",
    "else : print(f'입력한 숫자는 {n}입니다.')    \n",
    "\n",
    "    "
   ]
  },
  {
   "cell_type": "markdown",
   "metadata": {},
   "source": [
    "---"
   ]
  },
  {
   "cell_type": "markdown",
   "metadata": {},
   "source": [
    "[문제 5]\n",
    "\n",
    "datetime 모듈을 사용하여 현재 날짜와 시간을 출력하는 프로그램을 작성하세요. \n",
    "\n",
    "또한, 사용자로부터 태어난 년도를 입력받아 현재 나이를 계산하여 출력하세요."
   ]
  },
  {
   "cell_type": "code",
   "execution_count": null,
   "metadata": {},
   "outputs": [
    {
     "name": "stdout",
     "output_type": "stream",
     "text": [
      "30\n"
     ]
    }
   ],
   "source": [
    "import datetime\n",
    "\n",
    "now=datetime.datetime.now()\n",
    "\n",
    "birthyear = input('태어난 년도를 알려주시면 나이를 계산해드릴게요 :')\n",
    "birthyear = int(birthyear)\n",
    "age = now.year - birthyear\n",
    "print(age)\n",
    "#완벽\n"
   ]
  },
  {
   "cell_type": "markdown",
   "metadata": {},
   "source": [
    "---"
   ]
  },
  {
   "cell_type": "markdown",
   "metadata": {},
   "source": [
    "[문제 6]\n",
    "\n",
    "requests 모듈을 사용하여, 웹 페이지의 HTML을 가져오는 간단한 웹 스크레이퍼를 작성하세요.\n",
    "\n",
    "'https://kream.co.kr/'에서<br> \n",
    "데이터를 가져와서 상태 코드와 HTML의 첫 100자를 출력하세요.<br>\n",
    "(실습 전 requests 모듈을 설치해야 함)"
   ]
  },
  {
   "cell_type": "code",
   "execution_count": null,
   "metadata": {},
   "outputs": [],
   "source": [
    "#아예모름\n",
    "import requests\n",
    "\n"
   ]
  },
  {
   "cell_type": "markdown",
   "metadata": {},
   "source": [
    "---"
   ]
  },
  {
   "cell_type": "markdown",
   "metadata": {},
   "source": [
    "[문제 7]\n",
    "\n",
    "함수 실행 시간을 측정하는 데코레이터 timer_decorator를 작성하세요. \n",
    "\n",
    "임의의 함수가 실행되는 시간을 측정하여 \"함수 실행 시간: x.xx초\" 형태로 출력하세요."
   ]
  },
  {
   "cell_type": "code",
   "execution_count": 1,
   "metadata": {},
   "outputs": [
    {
     "name": "stdout",
     "output_type": "stream",
     "text": [
      "실행시간:0.000001초\n",
      "sum_1 결과 : 1369\n"
     ]
    }
   ],
   "source": [
    "#아예모름2\n",
    "import time\n",
    "import functools\n",
    "from typing import Callable, Any\n",
    "\n",
    "def timer_decorator(func: Callable) :\n",
    "    @functools.wraps(func)\n",
    "    def wrapper(*args: Any, **kwargs : Any):\n",
    "        start_time = time.time()\n",
    "        result = func(*args,**kwargs)\n",
    "        end_time = time.time()\n",
    "        print(f'실행시간:{end_time - start_time:.6f}초')\n",
    "        return result\n",
    "    return wrapper\n",
    "\n",
    "# @timer_decorator\n",
    "# def range_1(a):\n",
    "#     return range(a)\n",
    "# result = range_1(20)\n",
    "# print(result)\n",
    "\n",
    "@timer_decorator\n",
    "def sum_1(*args) :\n",
    "    if not args:\n",
    "        return 0\n",
    "\n",
    "    return sum(args)\n",
    "\n",
    "result = sum_1(123,123,1123)\n",
    "\n",
    "print(f'sum_1 결과 : {result}')"
   ]
  },
  {
   "cell_type": "markdown",
   "metadata": {},
   "source": [
    "1. time 모듈:\n",
    "   - time.time(): 현재 시간 타임스탬프\n",
    "   - time.sleep(): 프로그램 일시정지\n",
    "   - time.strftime(): 시간 포맷팅\n",
    "   - 실행 시간 측정에 주로 사용\n",
    "\n",
    "2. functools 모듈:\n",
    "   - functools.wraps: 데코레이터에서 메타데이터 보존\n",
    "   - functools.lru_cache: 함수 결과 캐싱\n",
    "   - functools.partial: 부분 함수 적용\n",
    "   - functools.reduce: 시퀀스 축약\n",
    "\n",
    "3. typing 모듈:\n",
    "   - Callable: 호출 가능한 객체 타입\n",
    "   - Any: 모든 타입 허용\n",
    "   - List, Dict, Tuple: 컨테이너 타입\n",
    "   - Optional, Union: 복합 타입\n",
    "   - 타입 힌트로 코드 가독성과 IDE 지원 향상"
   ]
  },
  {
   "cell_type": "markdown",
   "metadata": {},
   "source": [
    "---"
   ]
  },
  {
   "cell_type": "markdown",
   "metadata": {},
   "source": [
    "[문제 8]\n",
    "\n",
    "여러분이 자주 사용하는 수학적 연산<br>\n",
    "(예: 삼각형 넓이, 원의 넓이, 직육면체의 넓이)을 수행하는 함수들을 포함하는 mymath.py라는 이름의 모듈을 만드세요. \n",
    "\n",
    "이 모듈을 사용하여 작성된 함수들을 실제로 임포트하고 사용하는 간단한 프로그램을 작성하세요."
   ]
  },
  {
   "cell_type": "code",
   "execution_count": null,
   "metadata": {},
   "outputs": [
    {
     "name": "stdout",
     "output_type": "stream",
     "text": [
      "===기하학 계산기===\n",
      "1.삼각형 넓이\n",
      "2.원의 넓이\n",
      "3.직육면체 겉넓이\n",
      "원의 넓이:706.8582\n"
     ]
    }
   ],
   "source": [
    "#모듈 실행이 수정후 저장시에도 제대로 진행이 되지 않아 vs코드를 껐다 켰다 반복하는게 시간이 걸려\n",
    "#지피티 통째로 뺏김 학습에 도움이 됨\n",
    "import mymath as mm\n",
    "\n",
    "def geometry_calculator():\n",
    "    print('===기하학 계산기===')\n",
    "    print('1.삼각형 넓이')\n",
    "    print('2.원의 넓이')\n",
    "    print('3.직육면체 겉넓이')\n",
    "\n",
    "    try:\n",
    "        choice = int(input('선택하세요(1-3):'))\n",
    "\n",
    "        if choice == 1:\n",
    "            base = float(input('밑변을 입력하세요 :'))\n",
    "            height = float(input('높이를 입력하세요:'))\n",
    "            result = mm.triangle_area(base,height)\n",
    "            print(f'삼각형의 넓이:{result}')\n",
    "\n",
    "        elif choice == 2:\n",
    "            radius = float(input('반지름을 입력하세요:'))\n",
    "            result = mm.circle_area(radius)\n",
    "            print(f'원의 넓이:{result}')\n",
    "        \n",
    "        elif choice == 3:\n",
    "            length = float(input('길이를 입력하세요:'))\n",
    "            width = float(input('너비를 입력하세요:'))\n",
    "            height = float(input('높이를 입력하세요:'))\n",
    "            result = mm.rectangular_prism_surface_area(length,width,height)\n",
    "            print(f'직육면체의 겉넓이:{result}')\n",
    "\n",
    "        else : \n",
    "            print('잘못된 선택입니다.')\n",
    "\n",
    "    except ValueError as e :\n",
    "        print(f'입력오류:{e}')\n",
    "\n",
    "    except Exception as e : \n",
    "        print(f'오류 발생:{e}')\n",
    "\n",
    "geometry_calculator()"
   ]
  },
  {
   "cell_type": "code",
   "execution_count": null,
   "metadata": {},
   "outputs": [],
   "source": []
  },
  {
   "cell_type": "markdown",
   "metadata": {},
   "source": [
    "---"
   ]
  },
  {
   "cell_type": "markdown",
   "metadata": {},
   "source": [
    "[문제 9]\n",
    "\n",
    "animals라는 패키지를 만들고, 이 패키지 내에 mammals, birds라는 두 개의 서브 모듈을 생성하세요. \n",
    "\n",
    "- 각 모듈에는 최소한 한 개 이상의 동물에 관한 클래스를 정의하세요<br>\n",
    "  (예: mammals에는 Dog, birds에는 Eagle)\n",
    "- 이 패키지와 모듈을 사용하여 동물들의 정보를 출력하는 프로그램을 작성\n",
    "\n",
    "폴더 및 파일 구조\n",
    "```\n",
    "animals/(폴더)\n",
    "├── __init__.py\n",
    "├── mammals.py\n",
    "└── birds.py\n",
    "```\n"
   ]
  },
  {
   "cell_type": "code",
   "execution_count": 3,
   "metadata": {},
   "outputs": [
    {
     "ename": "ImportError",
     "evalue": "cannot import name 'Dog' from 'animals.mammals' (/Users/a/Desktop/oz_school/Python/필수과제/animals/mammals.py)",
     "output_type": "error",
     "traceback": [
      "\u001b[31m---------------------------------------------------------------------------\u001b[39m",
      "\u001b[31mImportError\u001b[39m                               Traceback (most recent call last)",
      "\u001b[36mCell\u001b[39m\u001b[36m \u001b[39m\u001b[32mIn[3]\u001b[39m\u001b[32m, line 1\u001b[39m\n\u001b[32m----> \u001b[39m\u001b[32m1\u001b[39m \u001b[38;5;28;01mfrom\u001b[39;00m\u001b[38;5;250m \u001b[39m\u001b[34;01manimals\u001b[39;00m\u001b[34;01m.\u001b[39;00m\u001b[34;01mmammals\u001b[39;00m\u001b[38;5;250m \u001b[39m\u001b[38;5;28;01mimport\u001b[39;00m Dog\n\u001b[32m      4\u001b[39m dog = Dog()\n\u001b[32m      5\u001b[39m \u001b[38;5;28mprint\u001b[39m\n",
      "\u001b[31mImportError\u001b[39m: cannot import name 'Dog' from 'animals.mammals' (/Users/a/Desktop/oz_school/Python/필수과제/animals/mammals.py)"
     ]
    }
   ],
   "source": [
    "from animals.mammals import Dog\n",
    "\n",
    "\n",
    "dog = Dog()\n",
    "print"
   ]
  },
  {
   "cell_type": "markdown",
   "metadata": {},
   "source": [
    "---"
   ]
  }
 ],
 "metadata": {
  "kernelspec": {
   "display_name": "Python 3",
   "language": "python",
   "name": "python3"
  },
  "language_info": {
   "codemirror_mode": {
    "name": "ipython",
    "version": 3
   },
   "file_extension": ".py",
   "mimetype": "text/x-python",
   "name": "python",
   "nbconvert_exporter": "python",
   "pygments_lexer": "ipython3",
   "version": "3.13.3"
  }
 },
 "nbformat": 4,
 "nbformat_minor": 2
}
