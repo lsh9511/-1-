{
 "cells": [
  {
   "cell_type": "code",
   "execution_count": 4,
   "id": "54effefb",
   "metadata": {},
   "outputs": [
    {
     "name": "stdout",
     "output_type": "stream",
     "text": [
      "[10, 5, 8]\n",
      "[10, 5, 8]\n",
      "[10, 5, 8]\n"
     ]
    }
   ],
   "source": [
    "#10 예제로 if문 익혀보기\n",
    "#문제 : 단어 a의 가운데 글자를 반환하는 코드\n",
    "#조건 : 단어의 길이가 짝수라면 가운드 두글자를 출력하면 됩니다.\n",
    "\n",
    "#입력값1 : \"abcde\" => c\n",
    "#입력값2 : \"qwer\" => we\n",
    "\n",
    "# a = input()\n",
    "# #코드를 작성해주세요\n",
    "# if len(a) % 2 == 0 :\n",
    "#     print(a[(int(len(a)/2))-1:(int(len(a)/2))+1])\n",
    "# else :\n",
    "#     print(a[int(len(a)/2)])\n",
    "\n",
    "#예제로 for문 익혀보기\n",
    "#문제 : 절대값 정수가 담긴 정수 변수와 그 정수의 부호를 차례로 담은 부호 변수가 있다\n",
    "# 두 변수를 이용해 실제 정수의 합을 구해주세요 (True : 양수, False : 음수)\n",
    "\n",
    "정수 = [10,5,8]\n",
    "부호 = [True, False, True]\n",
    "\n",
    "for i in 정수 : \n",
    "    print(정수)\n",
    "    "
   ]
  }
 ],
 "metadata": {
  "kernelspec": {
   "display_name": "Python 3",
   "language": "python",
   "name": "python3"
  },
  "language_info": {
   "codemirror_mode": {
    "name": "ipython",
    "version": 3
   },
   "file_extension": ".py",
   "mimetype": "text/x-python",
   "name": "python",
   "nbconvert_exporter": "python",
   "pygments_lexer": "ipython3",
   "version": "3.9.6"
  }
 },
 "nbformat": 4,
 "nbformat_minor": 5
}
