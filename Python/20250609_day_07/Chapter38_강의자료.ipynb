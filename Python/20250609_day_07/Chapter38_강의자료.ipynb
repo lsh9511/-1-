{
 "cells": [
  {
   "cell_type": "markdown",
   "metadata": {},
   "source": [
    "[외부모듈]\n",
    "\n",
    "파이썬의 장점 중 하나는 다양한 외부모듈입니다.\n",
    "\n",
    "인공지능 분야에서는 텐서플로와 사이킷런, 웹 분야에서는 django와 fastapi 등 굉장히 많은 모듈들이 존재하는데요\n",
    "\n",
    "이러한 모듈을 설치하는 방법은 pip install이라는 명령을 이용합니다.\n",
    "\n",
    "```\n",
    "pip install 모듈 이름\n",
    "```\n",
    "\n",
    "파이썬 외부모듈 중 정적페이지를 크롤링하거나 스크래핑할때 사용하는 beautifulsoup4을 설치해서<br>\n",
    "간단하게 사용해보겠습니다.\n",
    "\n",
    "beautifulsoup4 공식 홈페이지 : https://www.crummy.com/software/BeautifulSoup/bs4/doc.ko/\n",
    "\n",
    "[window]<br>\n",
    "pip install beautifulsoup4\n",
    "\n",
    "[mac]<br>\n",
    "pip3 install beautifulsoup4<br>\n",
    "brew install beautifulsoup4\n",
    "\n",
    "[기상청 RSS 서비스]\n",
    "https://www.weather.go.kr/w/pop/rss-guide.do\n",
    "\n",
    "```\n",
    "RSS(Really Simple Syndication, Rich Site Summary)란 블로그처럼 컨텐츠 업데이트가 자주 일어나는 웹사이트에서, \n",
    "업데이트된 정보를 쉽게 구독자들에게 제공하기 위해 XML을 기초로 만들어진 데이터 형식입니다. \n",
    "\n",
    "RSS서비스를 이용하면 업데이트된 정보를 찾기 위해 홈페이지에 일일이 방문하지 않아도 \n",
    "업데이트 될 때마다 빠르고 편리하게 확인할 수 있습니다.\n",
    "```\n",
    "\n",
    "rrs 전국 기상 정보 주소 : https://www.kma.go.kr/weather/forecast/mid-term-rss3.jsp?stnId=108"
   ]
  },
  {
   "cell_type": "code",
   "execution_count": 1,
   "metadata": {},
   "outputs": [
    {
     "name": "stderr",
     "output_type": "stream",
     "text": [
      "/var/folders/3_/9qm51_1j4hn64095ncvn96900000gn/T/ipykernel_19525/1166684083.py:6: XMLParsedAsHTMLWarning: It looks like you're using an HTML parser to parse an XML document.\n",
      "\n",
      "Assuming this really is an XML document, what you're doing might work, but you should know that using an XML parser will be more reliable. To parse this document as XML, make sure you have the Python package 'lxml' installed, and pass the keyword argument `features=\"xml\"` into the BeautifulSoup constructor.\n",
      "\n",
      "If you want or need to use an HTML parser on this document, you can make this warning go away by filtering it. To do that, run this code before calling the BeautifulSoup constructor:\n",
      "\n",
      "    from bs4 import XMLParsedAsHTMLWarning\n",
      "    import warnings\n",
      "\n",
      "    warnings.filterwarnings(\"ignore\", category=XMLParsedAsHTMLWarning)\n",
      "\n",
      "  soup = BeautifulSoup(target, \"html.parser\")\n"
     ]
    }
   ],
   "source": [
    "from urllib import request\n",
    "from bs4 import BeautifulSoup\n",
    "\n",
    "target = request.urlopen(\"http://www.kma.go.kr/repositary/xml/fct/mon/img/fct_mon1rss_108_20250605.xml\")\n",
    "\n",
    "soup = BeautifulSoup(target, \"html.parser\")\n",
    "\n",
    "for location in soup.select(\"location\"):\n",
    "    print(\"도시:\", location.select_one(\"city\").string)\n",
    "    print(\"날씨:\", location.select_one(\"wf\").string)\n",
    "    print(\"최저기온:\", location.select_one(\"tmn\").string)\n",
    "    print(\"최고기온:\", location.select_one(\"tmx\").string)\n",
    "    print()"
   ]
  },
  {
   "cell_type": "code",
   "execution_count": null,
   "metadata": {},
   "outputs": [],
   "source": []
  }
 ],
 "metadata": {
  "kernelspec": {
   "display_name": "Python 3",
   "language": "python",
   "name": "python3"
  },
  "language_info": {
   "codemirror_mode": {
    "name": "ipython",
    "version": 3
   },
   "file_extension": ".py",
   "mimetype": "text/x-python",
   "name": "python",
   "nbconvert_exporter": "python",
   "pygments_lexer": "ipython3",
   "version": "3.13.3"
  }
 },
 "nbformat": 4,
 "nbformat_minor": 2
}
