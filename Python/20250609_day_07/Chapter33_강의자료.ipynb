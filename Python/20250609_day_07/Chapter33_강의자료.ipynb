{
 "cells": [
  {
   "cell_type": "markdown",
   "metadata": {},
   "source": [
    "오류의 종류\n",
    "\n",
    "프로그램 언어의 오류에는 크게 두 가지 종류가 있습니다.\n",
    "\n",
    "- 프로그램 실행 전에 발생하는 오류를 구문 오류라고 함\n",
    "- 프로그램 실행 중에 발생하는 오류를 예외 또는 런타임 오류라고 함"
   ]
  },
  {
   "cell_type": "markdown",
   "metadata": {},
   "source": [
    "[구문오류]\n",
    "- 괄호의 개수, 들여쓰기 문제 등으로 프로그램이 실행되기도 전에 발생하는 오류"
   ]
  },
  {
   "cell_type": "code",
   "execution_count": null,
   "metadata": {},
   "outputs": [],
   "source": [
    "# 구문오류 예제\n",
    "print(\"오류의 아주 사소한것부터 발생합니다.\")"
   ]
  },
  {
   "cell_type": "code",
   "execution_count": 1,
   "metadata": {},
   "outputs": [
    {
     "ename": "SyntaxError",
     "evalue": "unexpected EOF while parsing (106249451.py, line 2)",
     "output_type": "error",
     "traceback": [
      "\u001b[0;36m  Cell \u001b[0;32mIn[1], line 2\u001b[0;36m\u001b[0m\n\u001b[0;31m    print(\"오류는 아주 사소한것부터 발생합니다.\"\u001b[0m\n\u001b[0m                                 ^\u001b[0m\n\u001b[0;31mSyntaxError\u001b[0m\u001b[0;31m:\u001b[0m unexpected EOF while parsing\n"
     ]
    }
   ],
   "source": [
    "#닫는 괄호를 생략한 경우\n",
    "print(\"오류는 아주 사소한것부터 발생합니다.\" "
   ]
  },
  {
   "cell_type": "markdown",
   "metadata": {},
   "source": [
    "SyntaxError : 구문에 문제가 발생해 프로그램이 실행조차 되지 않는 오류\n",
    "\n",
    "-> 이런 경우 구문 오류를 해결하지 않으면 프로그램을 실행할 수 없음"
   ]
  },
  {
   "cell_type": "code",
   "execution_count": null,
   "metadata": {},
   "outputs": [],
   "source": [
    "#생략한 괄호 삽입해 구문오류 해결\n",
    "print(\"오류는 아주 사소한것부터 발생합니다.\")"
   ]
  },
  {
   "cell_type": "markdown",
   "metadata": {},
   "source": [
    "[예외]\n",
    "- 예외 또는 런타임 오류는 실행 중에 발생하는 오류를 의미함"
   ]
  },
  {
   "cell_type": "code",
   "execution_count": 4,
   "metadata": {},
   "outputs": [
    {
     "name": "stdout",
     "output_type": "stream",
     "text": [
      "오류는 아주 사소한것부터 발생합니다.\n"
     ]
    }
   ],
   "source": [
    "#정상 실행\n",
    "print(\"오류는 아주 사소한것부터 발생합니다.\")\n",
    "\n",
    "#예외 발생\n",
    "dogs.append(\"말티즈\")"
   ]
  },
  {
   "cell_type": "code",
   "execution_count": 2,
   "metadata": {},
   "outputs": [
    {
     "name": "stdout",
     "output_type": "stream",
     "text": [
      "오류는 아주 사소한것부터 발생합니다.\n"
     ]
    },
    {
     "data": {
      "text/plain": [
       "['닥스훈트', '시바견', '말티즈']"
      ]
     },
     "execution_count": 2,
     "metadata": {},
     "output_type": "execute_result"
    }
   ],
   "source": [
    "#정상 실행\n",
    "print(\"오류는 아주 사소한것부터 발생합니다.\")\n",
    "\n",
    "#예외 발생 코드 해결\n",
    "dogs = [\"닥스훈트\", \"시바견\" ]\n",
    "dogs.append(\"말티즈\")\n",
    "dogs"
   ]
  },
  {
   "cell_type": "markdown",
   "metadata": {},
   "source": [
    "[기본 예외 처리]<br>\n",
    "예외를 해결하는 모든 것을 예외 처리라고 함\n",
    "\n",
    "예외 처리하는 2가지 방법\n",
    "- 조건문을 사용하는 방법\n",
    "- try 구문을 사용하는 방법\n",
    "\n",
    "단, 구문 오류가 발생하는 경우는 예외 처리로 불가하기 때문에 코드 자체를 수정하는 방법으로 해결해야함"
   ]
  },
  {
   "cell_type": "markdown",
   "metadata": {},
   "source": [
    "[조건문을 이용한 예외 처리]\n",
    "\n",
    "- 조건문을 이용한 예외 처리방법을 기본 예외 처리라고 함\n",
    "\n",
    "예외가 발생할 수 있는 상황을 파악하는게 우선입니다.\n",
    "아래 코드를 통해서 발생할 수 있는 예외 상황을 알아보겠습니다."
   ]
  },
  {
   "cell_type": "code",
   "execution_count": 5,
   "metadata": {},
   "outputs": [
    {
     "name": "stdout",
     "output_type": "stream",
     "text": [
      "삼각형의 넓이는 15.0입니다.\n"
     ]
    }
   ],
   "source": [
    "# x=3, y=5\n",
    "x, y = map(int, input(\"밑변과 높이를 입력해주세요\").split(\" \"))\n",
    "\n",
    "# 계산결과 출력\n",
    "print(f'삼각형의 넓이는 {x*y/2}입니다.') "
   ]
  },
  {
   "cell_type": "code",
   "execution_count": 22,
   "metadata": {},
   "outputs": [
    {
     "ename": "ValueError",
     "evalue": "invalid literal for int() with base 10: '3cm'",
     "output_type": "error",
     "traceback": [
      "\u001b[0;31m---------------------------------------------------------------------------\u001b[0m",
      "\u001b[0;31mValueError\u001b[0m                                Traceback (most recent call last)",
      "Cell \u001b[0;32mIn[22], line 2\u001b[0m\n\u001b[1;32m      1\u001b[0m \u001b[38;5;66;03m# x=3cm, y=5cm\u001b[39;00m\n\u001b[0;32m----> 2\u001b[0m x, y \u001b[38;5;241m=\u001b[39m \u001b[38;5;28mmap\u001b[39m(\u001b[38;5;28mint\u001b[39m, \u001b[38;5;28minput\u001b[39m(\u001b[38;5;124m\"\u001b[39m\u001b[38;5;124m밑변과 높이를 입력해주세요\u001b[39m\u001b[38;5;124m\"\u001b[39m)\u001b[38;5;241m.\u001b[39msplit(\u001b[38;5;124m\"\u001b[39m\u001b[38;5;124m \u001b[39m\u001b[38;5;124m\"\u001b[39m))\n\u001b[1;32m      4\u001b[0m \u001b[38;5;66;03m# 계산결과 출력\u001b[39;00m\n\u001b[1;32m      5\u001b[0m \u001b[38;5;28mprint\u001b[39m(\u001b[38;5;124mf\u001b[39m\u001b[38;5;124m'\u001b[39m\u001b[38;5;124m삼각형의 넓이는 \u001b[39m\u001b[38;5;132;01m{\u001b[39;00mx\u001b[38;5;241m*\u001b[39my\u001b[38;5;241m/\u001b[39m\u001b[38;5;241m2\u001b[39m\u001b[38;5;132;01m}\u001b[39;00m\u001b[38;5;124m입니다.\u001b[39m\u001b[38;5;124m'\u001b[39m) \n",
      "\u001b[0;31mValueError\u001b[0m: invalid literal for int() with base 10: '3cm'"
     ]
    }
   ],
   "source": [
    "# x=3cm, y=5cm\n",
    "x, y = map(int, input(\"밑변과 높이를 입력해주세요\").split(\" \"))\n",
    "\n",
    "# 계산결과 출력\n",
    "print(f'삼각형의 넓이는 {x*y/2}입니다.') "
   ]
  },
  {
   "cell_type": "markdown",
   "metadata": {},
   "source": [
    "정수를 입력하지 않아 발생한 오류에 대해 조건으로 구분해서 다른 처리를 할 수 있도록 코드를 수정해보겠습니다.\n",
    "\n",
    "조건문에 사용할 함수는 isdigit()입니다.\n",
    "- isdigit() : 숫자로만 구성되어있는 글자인지를 판단하고 숫자로 변환이 가능한 글자라면 true를 반환합니다.\n",
    "\n",
    "예) num = \"3\"<br>\n",
    "isdigit(num) => true"
   ]
  },
  {
   "cell_type": "code",
   "execution_count": 29,
   "metadata": {},
   "outputs": [
    {
     "name": "stdout",
     "output_type": "stream",
     "text": [
      "정수로 입력하지 않아 계산이 불가합니다.\n"
     ]
    }
   ],
   "source": [
    "# x=3cm, y=5cm\n",
    "x, y = input(\"밑변과 높이를 입력해주세요\").split(\" \")\n",
    "\n",
    "if x.isdigit() and y.isdigit():\n",
    "    # 계산결과 출력\n",
    "    x , y = int(x), int(y)\n",
    "    print(f'삼각형의 넓이는 {x*y/2}입니다.')\n",
    "else:\n",
    "    print(\"정수로 입력하지 않아 계산이 불가합니다.\")"
   ]
  },
  {
   "cell_type": "markdown",
   "metadata": {},
   "source": [
    "지금부터는 강의를 잠시 멈춰두고 아래 3가지 키워드에 대해서\n",
    "여러분들이 이해한 방식대로 정리하는 시간을 가져보시기 바랍니다.\n",
    " \n",
    "- 오류의 종류에 대해 설명해주세요\n",
    "\n",
    "    **구문 오류(Syntax Error)**는 코드가 프로그래밍 언어의 문법 규칙을 위반했을 때 발생합니다. 괄호가 맞지 않거나, 콜론이 빠졌거나, 들여쓰기가 잘못된 경우가 대표적입니다. 이런 오류는 코드 실행 전에 발견되며, 인터프리터나 컴파일러가 즉시 알려줍니다.\n",
    "\n",
    "    **런타임 오류(Runtime Error)**는 코드가 실행되는 동안 발생하는 오류입니다. 0으로 나누기, 존재하지 않는 파일 열기, 리스트의 범위를 벗어난 인덱스 접근 등이 해당됩니다. 코드는 문법적으로 올바르지만 실행 중에 예상치 못한 상황이 발생할 때 나타납니다.\n",
    "\n",
    "    **논리 오류(Logic Error)**는 코드가 정상적으로 실행되지만 의도한 결과와 다른 결과를 출력하는 경우입니다. 알고리즘의 논리가 잘못되었거나 조건문이 부정확할 때 발생하며, 가장 찾기 어려운 오류입니다.\n",
    "- 오류 종류별로 해결할 수 있는 방벙에 대해 설명해주세요\n",
    "\n",
    "    구문 오류 해결법은 비교적 직관적입니다. 오류 메시지를 주의 깊게 읽고 해당 줄을 확인하여 문법을 수정하면 됩니다. IDE나 코드 에디터의 구문 강조 기능을 활용하고, 괄호 짝 맞추기 기능을 사용하면 도움이 됩니다. 들여쓰기를 일관되게 유지하는 것도 중요합니다.\n",
    "\n",
    "    런타임 오류 해결법으로는 try-except 구문을 사용한 예외 처리가 가장 효과적입니다. 오류가 발생할 가능성이 있는 코드를 try 블록에 넣고, 예외 상황에 대한 대응을 except 블록에 작성합니다. 또한 입력값 검증을 통해 잘못된 데이터가 들어오는 것을 미리 방지할 수 있습니다.\n",
    "\n",
    "    논리 오류 해결법은 디버깅과 테스트가 핵심입니다. print문을 활용해 변수 값을 확인하거나, 디버거를 사용해 코드를 단계별로 실행하며 문제점을 찾아야 합니다. 다양한 테스트 케이스를 만들어 예상 결과와 실제 결과를 비교하는 것도 중요합니다.\n",
    "\n",
    "- isdigit() 함수에 대해 설명해주세요\n",
    "    isdigit() 함수는 문자열이 모두 숫자로 구성되어 있는지 확인하는 파이썬 내장 메서드입니다. 문자열의 모든 문자가 0-9 사이의 숫자일 때 True를 반환하고, 그렇지 않으면 False를 반환합니다.\n",
    "    이 함수는 사용자 입력 검증에 매우 유용합니다. 특히 숫자만 입력받아야 하는 상황에서 입력값의 유효성을 확인할 때 자주 사용됩니다. 다만 소수점이나 음수 기호가 포함된 경우는 False를 반환하므로, 이런 경우에는 다른 방법을 고려해야 합니다.\n",
    "    isdigit()과 유사한 함수로는 isnumeric()과 isdecimal()이 있는데, isnumeric()은 더 넓은 범위의 숫자 문자를 인식하고, isdecimal()은 0-9만 인식하는 더 엄격한 버전입니다.\n"
   ]
  },
  {
   "cell_type": "markdown",
   "metadata": {},
   "source": []
  }
 ],
 "metadata": {
  "kernelspec": {
   "display_name": "Python 3",
   "language": "python",
   "name": "python3"
  },
  "language_info": {
   "codemirror_mode": {
    "name": "ipython",
    "version": 3
   },
   "file_extension": ".py",
   "mimetype": "text/x-python",
   "name": "python",
   "nbconvert_exporter": "python",
   "pygments_lexer": "ipython3",
   "version": "3.9.6"
  }
 },
 "nbformat": 4,
 "nbformat_minor": 2
}
