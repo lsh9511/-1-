{
 "cells": [
  {
   "cell_type": "markdown",
   "id": "28cb0ad4",
   "metadata": {},
   "source": [
    "변수 : 하나의 값을 저장할 수 있는 공간을 생성하는 것\n",
    "\n",
    "변수명을 만들때 컨벤션에 가까운 이름을 사용하는 것이 좋다.(컨벤션이란 네이밍 컨벤션 들여쓰기 컨벤션 등 정해진 규칙내에서 코딩하는것 )\n",
    "\n"
   ]
  },
  {
   "cell_type": "code",
   "execution_count": null,
   "id": "bad6ff60",
   "metadata": {},
   "outputs": [],
   "source": [
    "#1. int(integer) : 정수\n",
    "#2. float (float) : 실수\n",
    "#3. str(string) : 문자열\n",
    "#4. bool(boolean) : 참 거짓\n",
    "#5. None : 아무것도 없다.\n",
    "#6. list : 리스트\n",
    "#7. tuple : 튜플\n",
    "#8. dict : 딕셔너리\n",
    "#9. set : 집합\n",
    "\n"
   ]
  },
  {
   "cell_type": "code",
   "execution_count": 2,
   "id": "20a0c215",
   "metadata": {},
   "outputs": [
    {
     "ename": "TypeError",
     "evalue": "can only concatenate str (not \"int\") to str",
     "output_type": "error",
     "traceback": [
      "\u001b[0;31m---------------------------------------------------------------------------\u001b[0m",
      "\u001b[0;31mTypeError\u001b[0m                                 Traceback (most recent call last)",
      "Cell \u001b[0;32mIn[2], line 4\u001b[0m\n\u001b[1;32m      1\u001b[0m \u001b[38;5;66;03m#box_num에 숫자만 넣자는 약속을 했어요 누군가 한글 표기법으로 숫자를 넣었습니다.\u001b[39;00m\n\u001b[1;32m      3\u001b[0m box_num \u001b[38;5;241m=\u001b[39m \u001b[38;5;124m\"\u001b[39m\u001b[38;5;124m하나\u001b[39m\u001b[38;5;124m\"\u001b[39m\n\u001b[0;32m----> 4\u001b[0m box_num \u001b[38;5;241m+\u001b[39m\u001b[38;5;241m=\u001b[39m \u001b[38;5;241m1\u001b[39m\n\u001b[1;32m      5\u001b[0m \u001b[38;5;28mprint\u001b[39m(box_num)\n",
      "\u001b[0;31mTypeError\u001b[0m: can only concatenate str (not \"int\") to str"
     ]
    }
   ],
   "source": [
    "#box_num에 숫자만 넣자는 약속을 했어요 누군가 한글 표기법으로 숫자를 넣었습니다.\n",
    "\n",
    "box_num = \"하나\"\n",
    "box_num += 1\n",
    "print(box_num)\n"
   ]
  },
  {
   "cell_type": "code",
   "execution_count": 4,
   "id": "6892f8a7",
   "metadata": {},
   "outputs": [
    {
     "data": {
      "text/plain": [
       "str"
      ]
     },
     "execution_count": 4,
     "metadata": {},
     "output_type": "execute_result"
    }
   ],
   "source": [
    "type(box_num)"
   ]
  },
  {
   "cell_type": "code",
   "execution_count": 7,
   "id": "ab6a6b87",
   "metadata": {},
   "outputs": [
    {
     "data": {
      "text/plain": [
       "float"
      ]
     },
     "execution_count": 7,
     "metadata": {},
     "output_type": "execute_result"
    }
   ],
   "source": [
    "type(1)\n",
    "type(1.2)"
   ]
  },
  {
   "cell_type": "code",
   "execution_count": 11,
   "id": "2e794853",
   "metadata": {},
   "outputs": [
    {
     "name": "stdout",
     "output_type": "stream",
     "text": [
      "5.0\n",
      "5\n"
     ]
    }
   ],
   "source": [
    "# 2여야 하는데\n",
    "\n",
    "4/2\n",
    "\n",
    "#형변환\n",
    "\n",
    "print(float(5))\n",
    "print(int(5.0))\n"
   ]
  },
  {
   "cell_type": "code",
   "execution_count": 15,
   "id": "7bbda9fe",
   "metadata": {},
   "outputs": [
    {
     "name": "stdout",
     "output_type": "stream",
     "text": [
      "['__abs__', '__add__', '__and__', '__bool__', '__ceil__', '__class__', '__delattr__', '__dir__', '__divmod__', '__doc__', '__eq__', '__float__', '__floor__', '__floordiv__', '__format__', '__ge__', '__getattribute__', '__getnewargs__', '__gt__', '__hash__', '__index__', '__init__', '__init_subclass__', '__int__', '__invert__', '__le__', '__lshift__', '__lt__', '__mod__', '__mul__', '__ne__', '__neg__', '__new__', '__or__', '__pos__', '__pow__', '__radd__', '__rand__', '__rdivmod__', '__reduce__', '__reduce_ex__', '__repr__', '__rfloordiv__', '__rlshift__', '__rmod__', '__rmul__', '__ror__', '__round__', '__rpow__', '__rrshift__', '__rshift__', '__rsub__', '__rtruediv__', '__rxor__', '__setattr__', '__sizeof__', '__str__', '__sub__', '__subclasshook__', '__truediv__', '__trunc__', '__xor__', 'as_integer_ratio', 'bit_length', 'conjugate', 'denominator', 'from_bytes', 'imag', 'numerator', 'real', 'to_bytes']\n"
     ]
    }
   ],
   "source": [
    "나이 = 10\n",
    "type(나이)\n",
    "print(dir(나이))"
   ]
  },
  {
   "cell_type": "markdown",
   "id": "edff7a8e",
   "metadata": {},
   "source": [
    "####메소드와 내장함수 함수에 대해서 설명할 수 있을 정도로 공부하기 "
   ]
  }
 ],
 "metadata": {
  "kernelspec": {
   "display_name": "Python 3",
   "language": "python",
   "name": "python3"
  },
  "language_info": {
   "codemirror_mode": {
    "name": "ipython",
    "version": 3
   },
   "file_extension": ".py",
   "mimetype": "text/x-python",
   "name": "python",
   "nbconvert_exporter": "python",
   "pygments_lexer": "ipython3",
   "version": "3.9.6"
  }
 },
 "nbformat": 4,
 "nbformat_minor": 5
}
