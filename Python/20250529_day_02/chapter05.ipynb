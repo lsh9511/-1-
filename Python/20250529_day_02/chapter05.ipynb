{
 "cells": [
  {
   "cell_type": "markdown",
   "id": "412bba8b",
   "metadata": {},
   "source": [
    "아아 : 5000원 / 아샷추 : 6500원\n",
    "아아 2잔 / 아샷추 3잔"
   ]
  },
  {
   "cell_type": "code",
   "execution_count": 1,
   "id": "9e2cc1fe",
   "metadata": {},
   "outputs": [
    {
     "data": {
      "text/plain": [
       "29500"
      ]
     },
     "execution_count": 1,
     "metadata": {},
     "output_type": "execute_result"
    }
   ],
   "source": [
    "(5000*2)+(6500*3)"
   ]
  },
  {
   "cell_type": "code",
   "execution_count": 4,
   "id": "7560c9f0",
   "metadata": {},
   "outputs": [
    {
     "name": "stdout",
     "output_type": "stream",
     "text": [
      "15\n"
     ]
    }
   ],
   "source": [
    "# 변수를 사용하지 않을때\n",
    "# 이전에 ㄱ?ㅖ산된 결과를 저장할 수 있는 방법이 없음\n",
    "sum = 1+2+3+4+5\n",
    "print(sum)"
   ]
  },
  {
   "cell_type": "code",
   "execution_count": 8,
   "id": "aa1f2baa",
   "metadata": {},
   "outputs": [
    {
     "name": "stdout",
     "output_type": "stream",
     "text": [
      "None\n"
     ]
    }
   ],
   "source": [
    "#변수에 어떤 값도 넣고 싶지 않고 선언하는 방법\n",
    "\n",
    "nothing=None\n",
    "print(nothing)"
   ]
  },
  {
   "cell_type": "code",
   "execution_count": 10,
   "id": "fd345eb2",
   "metadata": {},
   "outputs": [
    {
     "name": "stdout",
     "output_type": "stream",
     "text": [
      "크다 작다\n"
     ]
    }
   ],
   "source": [
    "#대소문자를 구분하는 변수\n",
    "BIG = \"크다\"\n",
    "big = \"작다\"\n",
    "\n",
    "print(BIG, big)\n"
   ]
  },
  {
   "cell_type": "code",
   "execution_count": 13,
   "id": "59ef4439",
   "metadata": {},
   "outputs": [
    {
     "name": "stdout",
     "output_type": "stream",
     "text": [
      "스니커즈\n",
      "슈프림 모자\n"
     ]
    }
   ],
   "source": [
    "# 스네이크 케이스(snake_case)와 카멜 케이스(camelCase)\n",
    "#스네이크 케이스 : snake_case\n",
    "#카멜 케이스 : camelCase\n",
    "# 파이썬에서는 스네이크 케이스를 주로 사용\n",
    "# 스네이크 케이스 예시\n",
    "def calculate_total_price(price, quantity):\n",
    "    return price * quantity\n",
    "# 카멜 케이스 예시\n",
    "def calculateTotalPrice(price, quantity):\n",
    "    return price * quantity\n",
    "#우리는 변수를 만들때 스네이크케이스로 진행합니다. 그리고 언더바는 2개를 적용시켜주세요\n",
    "#개발에 관련된 여러 조건을 명시하는 것들을 코드 컨벤션이라고 합니다.\n",
    "\n",
    "box__shoose = \"스니커즈\"\n",
    "box_hat = \"슈프림 모자\"\n",
    "print(box__shoose)\n",
    "print(box_hat)\n",
    "\n"
   ]
  },
  {
   "cell_type": "code",
   "execution_count": null,
   "id": "0a18737c",
   "metadata": {},
   "outputs": [],
   "source": [
    "#print() 포메팅 3가지 f-string : print (f'{변수명})\n",
    "\n"
   ]
  },
  {
   "cell_type": "markdown",
   "id": "2002e889",
   "metadata": {},
   "source": [
    "#붕어빵 문제 풀이"
   ]
  },
  {
   "cell_type": "code",
   "execution_count": 18,
   "id": "3a438002",
   "metadata": {},
   "outputs": [
    {
     "name": "stdout",
     "output_type": "stream",
     "text": [
      "주문하신 붕어빵(팥) 0개, 붕어빵(슈크림) 2개, 붕어빵(잡채) 3개, 총 5개, 결제금액은 14000원입니다.\n"
     ]
    }
   ],
   "source": [
    "cost_팥=2000\n",
    "cost_슈크림=2500\n",
    "cost_잡채=3000\n",
    "팥=0\n",
    "슈크림=2\n",
    "잡채=3\n",
    "all_cost=팥*cost_팥+슈크림*cost_슈크림+잡채*cost_잡채\n",
    "sum=팥+슈크림+잡채\n",
    "print(f\"주문하신 붕어빵(팥) {팥}개, 붕어빵(슈크림) {슈크림}개, 붕어빵(잡채) {잡채}개, 총 {sum}개, 결제금액은 {all_cost}원입니다.\")\n",
    "\n"
   ]
  },
  {
   "cell_type": "code",
   "execution_count": null,
   "id": "e818f900",
   "metadata": {},
   "outputs": [
    {
     "name": "stdout",
     "output_type": "stream",
     "text": [
      "주문이 완료되었습니다. 붕어빵(팥)0개, 붕어빵(슈크림)2개, 붕어빵(잡채)3개 총 5개 결제금액은 14000원 입니다.\n"
     ]
    }
   ],
   "source": [
    "#정답 or 가독성과 코드값 최소화\n",
    "fish_p, fish_s, fish_j = \"붕어빵(팥)\",\"붕어빵(슈크림)\",\"붕어빵(잡채)\"\n",
    "fish_p_sell, fish_s_sell, fish_j_sell = 2000, 2500, 3000\n",
    "order_p, order_s, order_j = 0, 2, 3\n",
    "\n",
    "#붕어빵 계산값\n",
    "order_p_pay, order_s_pay, order_j_pay = fish_p_sell*order_p, fish_s_sell*order_s, fish_j_sell*order_j\n",
    "total = order_p + order_s + order_j\n",
    "total_pay = order_p_pay + order_s_pay + order_j_pay\n",
    "\n",
    "\n",
    "print(f\"주문이 완료되었습니다. {fish_p}{order_p}개, {fish_s}{order_s}개, {fish_j}{order_j}개 총 {total}개 결제금액은 {total_pay}원 입니다.\")\n"
   ]
  }
 ],
 "metadata": {
  "kernelspec": {
   "display_name": "Python 3",
   "language": "python",
   "name": "python3"
  },
  "language_info": {
   "codemirror_mode": {
    "name": "ipython",
    "version": 3
   },
   "file_extension": ".py",
   "mimetype": "text/x-python",
   "name": "python",
   "nbconvert_exporter": "python",
   "pygments_lexer": "ipython3",
   "version": "3.9.6"
  }
 },
 "nbformat": 4,
 "nbformat_minor": 5
}
