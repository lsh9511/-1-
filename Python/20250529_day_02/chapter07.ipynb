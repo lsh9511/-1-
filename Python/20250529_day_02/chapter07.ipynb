{
 "cells": [
  {
   "cell_type": "markdown",
   "id": "3e07c713",
   "metadata": {},
   "source": [
    "#1. int(integer) : 정수\n",
    "#2. float (float) : 실수\n",
    "#3. str(string) : 문자열\n",
    "#4. bool(boolean) : 참 거짓\n",
    "\n",
    "---\n",
    "#5. None : 아무것도 없다.\n",
    "#6. list : 리스트\n",
    "#7. tuple : 튜플\n",
    "#8. dict : 딕셔너리\n",
    "#9. set : 집합"
   ]
  },
  {
   "cell_type": "code",
   "execution_count": 4,
   "id": "c16ebbd3",
   "metadata": {},
   "outputs": [
    {
     "name": "stdout",
     "output_type": "stream",
     "text": [
      "<class 'str'>\n",
      "<class 'int'>\n",
      "<class 'float'>\n",
      "<class 'str'>\n"
     ]
    }
   ],
   "source": [
    "이름 = \"이상환\"\n",
    "나이 = 32\n",
    "키 = 174.9\n",
    "소속 = \"무직\"\n",
    "print(type(이름))\n",
    "print(type(나이))\n",
    "print(type(키))\n",
    "print(type(소속))\n"
   ]
  },
  {
   "cell_type": "code",
   "execution_count": 8,
   "id": "474f8ff5",
   "metadata": {},
   "outputs": [
    {
     "name": "stdout",
     "output_type": "stream",
     "text": [
      "5\n",
      "5.0\n",
      "5 5.0\n",
      "<class 'str'> <class 'str'>\n"
     ]
    }
   ],
   "source": [
    "print(int(5.0))\n",
    "print(float(5))\n",
    "print(\"5\", \"5.0\")\n",
    "print(type(\"5\"), type(\"5.0\"))\n"
   ]
  },
  {
   "cell_type": "code",
   "execution_count": 11,
   "id": "8f1fa2da",
   "metadata": {},
   "outputs": [
    {
     "name": "stdout",
     "output_type": "stream",
     "text": [
      "무\n",
      "직\n"
     ]
    }
   ],
   "source": [
    "#0 인덱스 = 위치를 가리키는 숫자\n",
    "#str : 문자열\n",
    "#특징 : 시퀀스 자료형\n",
    "\n",
    "print(소속[0])\n",
    "print(소속[1])\n"
   ]
  },
  {
   "cell_type": "code",
   "execution_count": 16,
   "id": "0f342c2c",
   "metadata": {},
   "outputs": [
    {
     "data": {
      "text/plain": [
       "True"
      ]
     },
     "execution_count": 16,
     "metadata": {},
     "output_type": "execute_result"
    }
   ],
   "source": [
    "\"직\" in 소속"
   ]
  },
  {
   "cell_type": "code",
   "execution_count": 18,
   "id": "3dbdf02a",
   "metadata": {},
   "outputs": [
    {
     "data": {
      "text/plain": [
       "'13금요일'"
      ]
     },
     "execution_count": 18,
     "metadata": {},
     "output_type": "execute_result"
    }
   ],
   "source": [
    "#문자열 즉 시퀀스 끼리 합치기\n",
    "#문자열을 합치는 방법\n",
    "\"13\" + \"금요일\"\n"
   ]
  },
  {
   "cell_type": "code",
   "execution_count": 21,
   "id": "ce08c115",
   "metadata": {},
   "outputs": [
    {
     "name": "stdout",
     "output_type": "stream",
     "text": [
      "바니바니 당근당근바니바니 당근당근바니바니 당근당근바니바니 당근당근바니바니 당근당근바니바니 당근당근바니바니 당근당근바니바니 당근당근바니바니 당근당근바니바니 당근당근바니바니 당근당근바니바니 당근당근바니바니 당근당근바니바니 당근당근바니바니 당근당근바니바니 당근당근바니바니 당근당근바니바니 당근당근바니바니 당근당근바니바니 당근당근\n"
     ]
    },
    {
     "data": {
      "text/plain": [
       "180"
      ]
     },
     "execution_count": 21,
     "metadata": {},
     "output_type": "execute_result"
    }
   ],
   "source": [
    "# 복사가 가능합니다\n",
    "\n",
    "옛날게임 = \"바니바니 당근당근\" *20\n",
    "print(옛날게임)\n",
    "len(옛날게임)\n"
   ]
  },
  {
   "cell_type": "code",
   "execution_count": 23,
   "id": "9169efbd",
   "metadata": {},
   "outputs": [
    {
     "name": "stdout",
     "output_type": "stream",
     "text": [
      "카포에라\n"
     ]
    }
   ],
   "source": [
    "퀴즈 = \"차 4대가 고장나면? 카포에라\"\n",
    "print(퀴즈[12:16])"
   ]
  },
  {
   "cell_type": "code",
   "execution_count": 25,
   "id": "8bba093c",
   "metadata": {},
   "outputs": [
    {
     "data": {
      "text/plain": [
       "'라'"
      ]
     },
     "execution_count": 25,
     "metadata": {},
     "output_type": "execute_result"
    }
   ],
   "source": [
    "퀴즈[15]"
   ]
  },
  {
   "cell_type": "code",
   "execution_count": 30,
   "id": "55678030",
   "metadata": {},
   "outputs": [
    {
     "name": "stdout",
     "output_type": "stream",
     "text": [
      "2000 12 25\n"
     ]
    }
   ],
   "source": [
    "생년월일 = \"2000.12.25\"\n",
    "\n",
    "\n",
    "print(생년월일[0:4], 생년월일[5:7], 생년월일[8:11])\n"
   ]
  },
  {
   "cell_type": "code",
   "execution_count": 36,
   "id": "c4860429",
   "metadata": {},
   "outputs": [
    {
     "name": "stdout",
     "output_type": "stream",
     "text": [
      "123123123123\n",
      "321321321321\n",
      "132132\n",
      "213\n"
     ]
    }
   ],
   "source": [
    "숫자 =\"123123123123\"\n",
    "#전체 출력\n",
    "print(숫자[::])\n",
    "#거꾸로 출력\n",
    "print(숫자[::-1])\n",
    "#첫번째 인덱스 기준으로 2칸씩 띄어쓰기 출력하기\n",
    "print(숫자[::2])\n",
    "print(숫자[4:1:-1])\n"
   ]
  },
  {
   "cell_type": "code",
   "execution_count": 45,
   "id": "7ee3c7ba",
   "metadata": {},
   "outputs": [
    {
     "name": "stdout",
     "output_type": "stream",
     "text": [
      " 에중공 이님\n",
      "어중이떠중이\n"
     ]
    }
   ],
   "source": [
    "퀴즈 = \"스님이 공중에 뜬다를 4글자로 말하면? 어중이떠중이\"\n",
    "\n",
    "print(퀴즈[7:0:-1])\n",
    "print(퀴즈[22:28])"
   ]
  },
  {
   "cell_type": "code",
   "execution_count": 48,
   "id": "02cbe895",
   "metadata": {},
   "outputs": [
    {
     "data": {
      "text/plain": [
       "2"
      ]
     },
     "execution_count": 48,
     "metadata": {},
     "output_type": "execute_result"
    }
   ],
   "source": [
    "과일 = \"apple\"\n",
    "과일.count(\"p\")\n"
   ]
  },
  {
   "cell_type": "code",
   "execution_count": 50,
   "id": "a520e49f",
   "metadata": {},
   "outputs": [
    {
     "data": {
      "text/plain": [
       "1"
      ]
     },
     "execution_count": 50,
     "metadata": {},
     "output_type": "execute_result"
    }
   ],
   "source": [
    "과일.index(\"p\")\n"
   ]
  },
  {
   "cell_type": "code",
   "execution_count": 51,
   "id": "1e3b86ed",
   "metadata": {},
   "outputs": [],
   "source": [
    "라라랜드 = \"사람들은 다른 사람들의 열정에 끌리게 되어있어 자신이 잊은 걸 상기시켜 주니까\"\n"
   ]
  }
 ],
 "metadata": {
  "kernelspec": {
   "display_name": "Python 3",
   "language": "python",
   "name": "python3"
  },
  "language_info": {
   "codemirror_mode": {
    "name": "ipython",
    "version": 3
   },
   "file_extension": ".py",
   "mimetype": "text/x-python",
   "name": "python",
   "nbconvert_exporter": "python",
   "pygments_lexer": "ipython3",
   "version": "3.9.6"
  }
 },
 "nbformat": 4,
 "nbformat_minor": 5
}
