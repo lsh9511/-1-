{
 "cells": [
  {
   "cell_type": "markdown",
   "id": "ad10f131",
   "metadata": {},
   "source": [
    "#bool 의 쇼타임 시작됩니다.\n",
    "# 주의할 점 True 와 true False 와 false 는 다른 값입니다.\n",
    "# 부등호"
   ]
  },
  {
   "cell_type": "code",
   "execution_count": 9,
   "id": "6f49e115",
   "metadata": {},
   "outputs": [
    {
     "data": {
      "text/plain": [
       "False"
      ]
     },
     "execution_count": 9,
     "metadata": {},
     "output_type": "execute_result"
    }
   ],
   "source": [
    "3>1\n",
    "3==1\n",
    "3==3\n",
    "20!=5\n",
    "20!=20"
   ]
  },
  {
   "cell_type": "code",
   "execution_count": 14,
   "id": "2f05ef51",
   "metadata": {},
   "outputs": [
    {
     "data": {
      "text/plain": [
       "True"
      ]
     },
     "execution_count": 14,
     "metadata": {},
     "output_type": "execute_result"
    }
   ],
   "source": [
    "#문자열 비교\n",
    "\"python\" ==\"Python\"\n",
    "\"python\" == \"python\"\n",
    "\"python\" != \"PYTHON\"\n"
   ]
  },
  {
   "cell_type": "code",
   "execution_count": 17,
   "id": "4351dbb6",
   "metadata": {},
   "outputs": [
    {
     "name": "stdout",
     "output_type": "stream",
     "text": [
      "4422512016\n",
      "4364740976\n"
     ]
    },
    {
     "name": "stderr",
     "output_type": "stream",
     "text": [
      "<>:3: SyntaxWarning: \"is\" with a literal. Did you mean \"==\"?\n",
      "<>:3: SyntaxWarning: \"is\" with a literal. Did you mean \"==\"?\n",
      "/var/folders/3_/9qm51_1j4hn64095ncvn96900000gn/T/ipykernel_24423/951910748.py:3: SyntaxWarning: \"is\" with a literal. Did you mean \"==\"?\n",
      "  3 is 3\n"
     ]
    }
   ],
   "source": [
    "# 중요\n",
    "# ==, is\n",
    "3 is 3\n",
    "\n",
    "print(id(3.0))\n",
    "print(id(3))\n"
   ]
  },
  {
   "cell_type": "markdown",
   "id": "cf30fa9a",
   "metadata": {},
   "source": [
    "##미션 : 값 비교에는 is를 쓰면 안되는데 그 이유를 찾아서 기술블로그에 작성해보세요"
   ]
  },
  {
   "cell_type": "code",
   "execution_count": 18,
   "id": "487210d0",
   "metadata": {},
   "outputs": [
    {
     "data": {
      "text/plain": [
       "False"
      ]
     },
     "execution_count": 18,
     "metadata": {},
     "output_type": "execute_result"
    }
   ],
   "source": [
    "#본격적인 논리연사자\n",
    "# True : 1 / False : 0\n",
    "True and True # 1 * 1= 1\n",
    "True and False # 1 * 0 = 0\n",
    "False and True # 0 * 1 = 0\n",
    "False and False # 0 * 0 = 0\n",
    "\n",
    "True or True # 1 + 1 = 1\n",
    "True or False # 1 + 0 = 1\n",
    "False or True # 0 + 1 = 1\n",
    "False or False # 0 + 0 = 0\n",
    "\n"
   ]
  },
  {
   "cell_type": "code",
   "execution_count": 21,
   "id": "eff61c7d",
   "metadata": {},
   "outputs": [
    {
     "data": {
      "text/plain": [
       "True"
      ]
     },
     "execution_count": 21,
     "metadata": {},
     "output_type": "execute_result"
    }
   ],
   "source": [
    "#not\n",
    "\n",
    "not True\n",
    "\n",
    "not False\n",
    "\n"
   ]
  },
  {
   "cell_type": "code",
   "execution_count": 24,
   "id": "05d59830",
   "metadata": {},
   "outputs": [
    {
     "name": "stderr",
     "output_type": "stream",
     "text": [
      "<>:6: SyntaxWarning: \"is not\" with a literal. Did you mean \"!=\"?\n",
      "<>:6: SyntaxWarning: \"is not\" with a literal. Did you mean \"!=\"?\n",
      "/var/folders/3_/9qm51_1j4hn64095ncvn96900000gn/T/ipykernel_24423/266382782.py:6: SyntaxWarning: \"is not\" with a literal. Did you mean \"!=\"?\n",
      "  not 7 is 7.0 #True = True\n"
     ]
    },
    {
     "data": {
      "text/plain": [
       "True"
      ]
     },
     "execution_count": 24,
     "metadata": {},
     "output_type": "execute_result"
    }
   ],
   "source": [
    "#점점 복잡해지는 조건들!!!\n",
    "\n",
    "10 == 12 or 6 != 2 #False or True = True\n",
    "2 > 5 and 7 == 7 #False and True = False\n",
    "not 14 <= 15 #False = False\n",
    "not 7 is 7.0 #True = True\n",
    "\n",
    "\n"
   ]
  },
  {
   "cell_type": "code",
   "execution_count": 25,
   "id": "bad9ce79",
   "metadata": {},
   "outputs": [
    {
     "data": {
      "text/plain": [
       "True"
      ]
     },
     "execution_count": 25,
     "metadata": {},
     "output_type": "execute_result"
    }
   ],
   "source": [
    "#문자열?? True?\n",
    "\n",
    "bool(\"abc\")\n"
   ]
  },
  {
   "cell_type": "code",
   "execution_count": 27,
   "id": "48aea09d",
   "metadata": {},
   "outputs": [
    {
     "name": "stdout",
     "output_type": "stream",
     "text": [
      "False\n",
      "False\n",
      "False\n",
      "abc\n"
     ]
    }
   ],
   "source": [
    "#굉장히 중요한 내용\n",
    "#단락 평가\n",
    "\n",
    "print(False and True)\n",
    "print(False and \"abc\") \n",
    "print (True and False) # 1 * 0\n",
    "print (True and \"abc\") # 1 * \"abc\"\n"
   ]
  }
 ],
 "metadata": {
  "kernelspec": {
   "display_name": "Python 3",
   "language": "python",
   "name": "python3"
  },
  "language_info": {
   "codemirror_mode": {
    "name": "ipython",
    "version": 3
   },
   "file_extension": ".py",
   "mimetype": "text/x-python",
   "name": "python",
   "nbconvert_exporter": "python",
   "pygments_lexer": "ipython3",
   "version": "3.9.6"
  }
 },
 "nbformat": 4,
 "nbformat_minor": 5
}
